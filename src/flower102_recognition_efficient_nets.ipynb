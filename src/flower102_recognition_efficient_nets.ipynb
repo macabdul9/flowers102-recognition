{
  "nbformat": 4,
  "nbformat_minor": 0,
  "metadata": {
    "colab": {
      "name": "flower102-recognition-efficient-nets.ipynb",
      "version": "0.3.2",
      "provenance": [],
      "collapsed_sections": [],
      "toc_visible": true,
      "machine_shape": "hm"
    },
    "kernelspec": {
      "name": "python3",
      "display_name": "Python 3"
    },
    "accelerator": "GPU"
  },
  "cells": [
    {
      "cell_type": "markdown",
      "metadata": {
        "id": "HQhFYpINDGFD",
        "colab_type": "text"
      },
      "source": [
        "\n",
        "### url for challenge : https://www.hackerearth.com/challenges/competitive/garden-nerd-data-science-competition/"
      ]
    },
    {
      "cell_type": "code",
      "metadata": {
        "id": "kMFUhzj5BFRG",
        "colab_type": "code",
        "colab": {}
      },
      "source": [
        "# !wget https://he-public-data.s3-ap-southeast-1.amazonaws.com/HE_Challenge_data.zip"
      ],
      "execution_count": 0,
      "outputs": []
    },
    {
      "cell_type": "code",
      "metadata": {
        "id": "z2KQNwqkbwyQ",
        "colab_type": "code",
        "colab": {}
      },
      "source": [
        "# !unzip HE_Challenge_data"
      ],
      "execution_count": 0,
      "outputs": []
    },
    {
      "cell_type": "code",
      "metadata": {
        "id": "wR18oMhwDbVm",
        "colab_type": "code",
        "colab": {}
      },
      "source": [
        "import warnings\n",
        "warnings.filterwarnings('ignore')"
      ],
      "execution_count": 0,
      "outputs": []
    },
    {
      "cell_type": "code",
      "metadata": {
        "id": "W1cDhpgoDQQa",
        "colab_type": "code",
        "colab": {
          "base_uri": "https://localhost:8080/",
          "height": 34
        },
        "outputId": "6964a8b2-02c7-4fe4-e2d5-5796cff17c0f"
      },
      "source": [
        "import os\n",
        "import shutil\n",
        "import numpy as np\n",
        "import pandas as pd\n",
        "import matplotlib.pyplot as plt\n",
        "import keras"
      ],
      "execution_count": 5,
      "outputs": [
        {
          "output_type": "stream",
          "text": [
            "Using TensorFlow backend.\n"
          ],
          "name": "stderr"
        }
      ]
    },
    {
      "cell_type": "markdown",
      "metadata": {
        "id": "DvoANZ_FDPbO",
        "colab_type": "text"
      },
      "source": [
        "## Data Pipeline"
      ]
    },
    {
      "cell_type": "code",
      "metadata": {
        "id": "r0iL_gi_SAPx",
        "colab_type": "code",
        "colab": {}
      },
      "source": [
        "train = pd.read_csv('data/train.csv')\n",
        "test = pd.read_csv('data/test.csv')\n",
        "sample = pd.read_csv('data/sample_submission.csv')"
      ],
      "execution_count": 0,
      "outputs": []
    },
    {
      "cell_type": "code",
      "metadata": {
        "id": "CsS--OGVDYQ9",
        "colab_type": "code",
        "colab": {
          "base_uri": "https://localhost:8080/",
          "height": 143
        },
        "outputId": "5a05ab44-9211-45b2-891a-ce859233f70f"
      },
      "source": [
        "train.tail(3)"
      ],
      "execution_count": 7,
      "outputs": [
        {
          "output_type": "execute_result",
          "data": {
            "text/html": [
              "<div>\n",
              "<style scoped>\n",
              "    .dataframe tbody tr th:only-of-type {\n",
              "        vertical-align: middle;\n",
              "    }\n",
              "\n",
              "    .dataframe tbody tr th {\n",
              "        vertical-align: top;\n",
              "    }\n",
              "\n",
              "    .dataframe thead th {\n",
              "        text-align: right;\n",
              "    }\n",
              "</style>\n",
              "<table border=\"1\" class=\"dataframe\">\n",
              "  <thead>\n",
              "    <tr style=\"text-align: right;\">\n",
              "      <th></th>\n",
              "      <th>image_id</th>\n",
              "      <th>category</th>\n",
              "    </tr>\n",
              "  </thead>\n",
              "  <tbody>\n",
              "    <tr>\n",
              "      <th>18537</th>\n",
              "      <td>18537</td>\n",
              "      <td>78</td>\n",
              "    </tr>\n",
              "    <tr>\n",
              "      <th>18538</th>\n",
              "      <td>18538</td>\n",
              "      <td>74</td>\n",
              "    </tr>\n",
              "    <tr>\n",
              "      <th>18539</th>\n",
              "      <td>18539</td>\n",
              "      <td>29</td>\n",
              "    </tr>\n",
              "  </tbody>\n",
              "</table>\n",
              "</div>"
            ],
            "text/plain": [
              "       image_id  category\n",
              "18537     18537        78\n",
              "18538     18538        74\n",
              "18539     18539        29"
            ]
          },
          "metadata": {
            "tags": []
          },
          "execution_count": 7
        }
      ]
    },
    {
      "cell_type": "code",
      "metadata": {
        "id": "aZUxuUGOrKdJ",
        "colab_type": "code",
        "colab": {
          "base_uri": "https://localhost:8080/",
          "height": 143
        },
        "outputId": "8a1e7c81-df31-46eb-b9eb-807d509d6074"
      },
      "source": [
        "test.head(3)"
      ],
      "execution_count": 9,
      "outputs": [
        {
          "output_type": "execute_result",
          "data": {
            "text/html": [
              "<div>\n",
              "<style scoped>\n",
              "    .dataframe tbody tr th:only-of-type {\n",
              "        vertical-align: middle;\n",
              "    }\n",
              "\n",
              "    .dataframe tbody tr th {\n",
              "        vertical-align: top;\n",
              "    }\n",
              "\n",
              "    .dataframe thead th {\n",
              "        text-align: right;\n",
              "    }\n",
              "</style>\n",
              "<table border=\"1\" class=\"dataframe\">\n",
              "  <thead>\n",
              "    <tr style=\"text-align: right;\">\n",
              "      <th></th>\n",
              "      <th>image_id</th>\n",
              "      <th>category</th>\n",
              "    </tr>\n",
              "  </thead>\n",
              "  <tbody>\n",
              "    <tr>\n",
              "      <th>0</th>\n",
              "      <td>18540</td>\n",
              "      <td>NaN</td>\n",
              "    </tr>\n",
              "    <tr>\n",
              "      <th>1</th>\n",
              "      <td>18541</td>\n",
              "      <td>NaN</td>\n",
              "    </tr>\n",
              "    <tr>\n",
              "      <th>2</th>\n",
              "      <td>18542</td>\n",
              "      <td>NaN</td>\n",
              "    </tr>\n",
              "  </tbody>\n",
              "</table>\n",
              "</div>"
            ],
            "text/plain": [
              "   image_id  category\n",
              "0     18540       NaN\n",
              "1     18541       NaN\n",
              "2     18542       NaN"
            ]
          },
          "metadata": {
            "tags": []
          },
          "execution_count": 9
        }
      ]
    },
    {
      "cell_type": "code",
      "metadata": {
        "id": "S0N9CAyutTV-",
        "colab_type": "code",
        "colab": {
          "base_uri": "https://localhost:8080/",
          "height": 143
        },
        "outputId": "9418a15e-5fb7-4283-ad49-63654a504c35"
      },
      "source": [
        "sample.head(3)"
      ],
      "execution_count": 10,
      "outputs": [
        {
          "output_type": "execute_result",
          "data": {
            "text/html": [
              "<div>\n",
              "<style scoped>\n",
              "    .dataframe tbody tr th:only-of-type {\n",
              "        vertical-align: middle;\n",
              "    }\n",
              "\n",
              "    .dataframe tbody tr th {\n",
              "        vertical-align: top;\n",
              "    }\n",
              "\n",
              "    .dataframe thead th {\n",
              "        text-align: right;\n",
              "    }\n",
              "</style>\n",
              "<table border=\"1\" class=\"dataframe\">\n",
              "  <thead>\n",
              "    <tr style=\"text-align: right;\">\n",
              "      <th></th>\n",
              "      <th>image_id</th>\n",
              "      <th>category</th>\n",
              "    </tr>\n",
              "  </thead>\n",
              "  <tbody>\n",
              "    <tr>\n",
              "      <th>0</th>\n",
              "      <td>18540</td>\n",
              "      <td>0</td>\n",
              "    </tr>\n",
              "    <tr>\n",
              "      <th>1</th>\n",
              "      <td>18541</td>\n",
              "      <td>0</td>\n",
              "    </tr>\n",
              "    <tr>\n",
              "      <th>2</th>\n",
              "      <td>18542</td>\n",
              "      <td>0</td>\n",
              "    </tr>\n",
              "  </tbody>\n",
              "</table>\n",
              "</div>"
            ],
            "text/plain": [
              "   image_id  category\n",
              "0     18540         0\n",
              "1     18541         0\n",
              "2     18542         0"
            ]
          },
          "metadata": {
            "tags": []
          },
          "execution_count": 10
        }
      ]
    },
    {
      "cell_type": "code",
      "metadata": {
        "id": "jZmK96L2Dhal",
        "colab_type": "code",
        "colab": {}
      },
      "source": [
        "train = train.values"
      ],
      "execution_count": 0,
      "outputs": []
    },
    {
      "cell_type": "code",
      "metadata": {
        "id": "tSaa_0LeDhYB",
        "colab_type": "code",
        "colab": {}
      },
      "source": [
        "folders, num_samples = np.unique(train[:, 1], return_counts=True)"
      ],
      "execution_count": 0,
      "outputs": []
    },
    {
      "cell_type": "code",
      "metadata": {
        "id": "sL6sZu_cDhVL",
        "colab_type": "code",
        "colab": {}
      },
      "source": [
        "for folder in folders:\n",
        "  p = os.path.join('data/train', str(folder))\n",
        "  if not os.path.isdir(p):\n",
        "    os.mkdir(p)"
      ],
      "execution_count": 0,
      "outputs": []
    },
    {
      "cell_type": "code",
      "metadata": {
        "id": "TXMlWyFODhSk",
        "colab_type": "code",
        "colab": {}
      },
      "source": [
        "# make subdirectory of each class\n",
        "for i in range(train.shape[0]):\n",
        "  dest = os.path.join('data/train/', str(train[i][1]))\n",
        "  src = os.path.join('data/train', str(train[i][0]) + '.jpg')\n",
        "  shutil.move(src, dest)"
      ],
      "execution_count": 0,
      "outputs": []
    },
    {
      "cell_type": "markdown",
      "metadata": {
        "id": "0uVItCbdD3fz",
        "colab_type": "text"
      },
      "source": [
        "#### validation - training split"
      ]
    },
    {
      "cell_type": "code",
      "metadata": {
        "id": "4MS2-7G_DhPv",
        "colab_type": "code",
        "colab": {}
      },
      "source": [
        "SPLIT = 0.90 # 90% for training 10% for validation"
      ],
      "execution_count": 0,
      "outputs": []
    },
    {
      "cell_type": "code",
      "metadata": {
        "id": "H_0fU5ccDhL3",
        "colab_type": "code",
        "colab": {}
      },
      "source": [
        "# create the validation directory\n",
        "if not os.path.isdir('data/val'):\n",
        "  os.mkdir('data/val')\n"
      ],
      "execution_count": 0,
      "outputs": []
    },
    {
      "cell_type": "code",
      "metadata": {
        "id": "2W3t38QaDhFy",
        "colab_type": "code",
        "colab": {}
      },
      "source": [
        "# creating subdirectories (of each category) in validation directory\n",
        "for folder in folders:\n",
        "  p = os.path.join('data/val', str(folder))\n",
        "  if not os.path.isdir(p):\n",
        "    os.mkdir(p)\n"
      ],
      "execution_count": 0,
      "outputs": []
    },
    {
      "cell_type": "code",
      "metadata": {
        "id": "d0qZMEuIDhA9",
        "colab_type": "code",
        "colab": {}
      },
      "source": [
        "# move the 10% data from training directory to validation directory\n",
        "\n",
        "for f in folders:\n",
        "  path = 'data/train/'+str(f)\n",
        "  imgs = os.listdir(path)\n",
        "  split_size = int(SPLIT*len(imgs))\n",
        "  file_to_move = imgs[split_size:]\n",
        "  \n",
        "  for img_f in file_to_move:\n",
        "    src = os.path.join(path, img_f)\n",
        "    dest = os.path.join('data/val/'+str(f), img_f)\n",
        "    shutil.move(src, dest)"
      ],
      "execution_count": 0,
      "outputs": []
    },
    {
      "cell_type": "markdown",
      "metadata": {
        "id": "x8aWBrLVEMiL",
        "colab_type": "text"
      },
      "source": [
        "\n",
        "###Data Augmentation\n"
      ]
    },
    {
      "cell_type": "code",
      "metadata": {
        "id": "f3kbB_7cEVe2",
        "colab_type": "code",
        "colab": {}
      },
      "source": [
        "from keras.preprocessing.image import ImageDataGenerator"
      ],
      "execution_count": 0,
      "outputs": []
    },
    {
      "cell_type": "code",
      "metadata": {
        "id": "V4PLjyt_DmUz",
        "colab_type": "code",
        "colab": {}
      },
      "source": [
        "train_img_gen = ImageDataGenerator(\n",
        "    rescale = 1/255.0,\n",
        "    rotation_range = 90,\n",
        "    width_shift_range = 0.2,\n",
        "    height_shift_range = 0.2,\n",
        "    shear_range = 0.4,\n",
        "    zoom_range = 0.3,\n",
        "    horizontal_flip = True\n",
        ")\n",
        "val_img_gen = ImageDataGenerator(\n",
        "    rescale = 1/255.0,\n",
        ")"
      ],
      "execution_count": 0,
      "outputs": []
    },
    {
      "cell_type": "code",
      "metadata": {
        "id": "pInP4pPtDmS1",
        "colab_type": "code",
        "colab": {
          "base_uri": "https://localhost:8080/",
          "height": 52
        },
        "outputId": "52076e0c-ee64-4352-d919-81d361a99132"
      },
      "source": [
        "train_gen = train_img_gen.flow_from_directory(\n",
        "    'data/train',\n",
        "    batch_size = 32,\n",
        "    \n",
        "\n",
        ")\n",
        "val_gen = val_img_gen.flow_from_directory(\n",
        "    'data/val/',\n",
        ")"
      ],
      "execution_count": 49,
      "outputs": [
        {
          "output_type": "stream",
          "text": [
            "Found 16638 images belonging to 102 classes.\n",
            "Found 1902 images belonging to 102 classes.\n"
          ],
          "name": "stdout"
        }
      ]
    },
    {
      "cell_type": "code",
      "metadata": {
        "id": "t1-SVE5FDmQf",
        "colab_type": "code",
        "colab": {
          "base_uri": "https://localhost:8080/",
          "height": 34
        },
        "outputId": "c5249b9b-597b-4007-f0ed-db80f88f198d"
      },
      "source": [
        "for (x, y) in train_gen:\n",
        "  print(x.shape, y.shape)\n",
        "  break"
      ],
      "execution_count": 24,
      "outputs": [
        {
          "output_type": "stream",
          "text": [
            "(128, 256, 256, 3) (128, 102)\n"
          ],
          "name": "stdout"
        }
      ]
    },
    {
      "cell_type": "markdown",
      "metadata": {
        "id": "Pu26rJ6GEii0",
        "colab_type": "text"
      },
      "source": [
        "##  Claasifier Model - EfficientNet\n"
      ]
    },
    {
      "cell_type": "code",
      "metadata": {
        "id": "xgfO39m8DmME",
        "colab_type": "code",
        "colab": {}
      },
      "source": [
        "from keras.models import *\n",
        "from keras.layers import *\n",
        "from keras.optimizers import *"
      ],
      "execution_count": 0,
      "outputs": []
    },
    {
      "cell_type": "markdown",
      "metadata": {
        "id": "muchhZWHEpCm",
        "colab_type": "text"
      },
      "source": [
        "####  Callback and Checkpoints\n"
      ]
    },
    {
      "cell_type": "code",
      "metadata": {
        "id": "eJEBEPDwDmIE",
        "colab_type": "code",
        "colab": {}
      },
      "source": [
        "from tensorboardcolab import *"
      ],
      "execution_count": 0,
      "outputs": []
    },
    {
      "cell_type": "code",
      "metadata": {
        "id": "Ymgq7QWREx8H",
        "colab_type": "code",
        "colab": {
          "base_uri": "https://localhost:8080/",
          "height": 69
        },
        "outputId": "33d832bc-aa3b-417f-d7f6-414ec360846c"
      },
      "source": [
        "tbc=TensorBoardColab()"
      ],
      "execution_count": 27,
      "outputs": [
        {
          "output_type": "stream",
          "text": [
            "Wait for 8 seconds...\n",
            "TensorBoard link:\n",
            "https://2f310b24.ngrok.io\n"
          ],
          "name": "stdout"
        }
      ]
    },
    {
      "cell_type": "code",
      "metadata": {
        "id": "28eApyggDmBr",
        "colab_type": "code",
        "colab": {}
      },
      "source": [
        "from keras.callbacks import Callback, TensorBoard, EarlyStopping"
      ],
      "execution_count": 0,
      "outputs": []
    },
    {
      "cell_type": "code",
      "metadata": {
        "id": "lXirCnTvDnAg",
        "colab_type": "code",
        "colab": {}
      },
      "source": [
        "# os.mkdir('logs')"
      ],
      "execution_count": 0,
      "outputs": []
    },
    {
      "cell_type": "code",
      "metadata": {
        "id": "zbvp6qGnDm8Y",
        "colab_type": "code",
        "colab": {}
      },
      "source": [
        "tb = TensorBoard('./logs')\n",
        "es = EarlyStopping(monitor='val_acc', min_delta=0.1, patience=5)"
      ],
      "execution_count": 0,
      "outputs": []
    },
    {
      "cell_type": "markdown",
      "metadata": {
        "id": "YARbhFd4FBoK",
        "colab_type": "text"
      },
      "source": [
        "### Model Architecture"
      ]
    },
    {
      "cell_type": "code",
      "metadata": {
        "id": "PX8NRjLSDm5t",
        "colab_type": "code",
        "colab": {}
      },
      "source": [
        "# ! pip install keras_efficientnets\n",
        "from keras_efficientnets import EfficientNetB0"
      ],
      "execution_count": 0,
      "outputs": []
    },
    {
      "cell_type": "code",
      "metadata": {
        "id": "Sf1EcTb7Dm26",
        "colab_type": "code",
        "colab": {
          "base_uri": "https://localhost:8080/",
          "height": 72
        },
        "outputId": "99643cf3-10bb-454a-ab15-aa2aad0f8bf5"
      },
      "source": [
        "model = EfficientNetB0((256, 256, 3), classes=102, include_top=False, weights='imagenet')"
      ],
      "execution_count": 54,
      "outputs": [
        {
          "output_type": "stream",
          "text": [
            "Downloading data from https://github.com/titu1994/keras-efficientnets/releases/download/v0.1/efficientnet-b0_notop.h5\n",
            "16719872/16717576 [==============================] - 1s 0us/step\n"
          ],
          "name": "stdout"
        }
      ]
    },
    {
      "cell_type": "code",
      "metadata": {
        "id": "JlYlkj8TFbcV",
        "colab_type": "code",
        "colab": {
          "base_uri": "https://localhost:8080/",
          "height": 1000
        },
        "outputId": "e3873cf3-2536-4531-aa12-a405cd26c8aa"
      },
      "source": [
        "model.summary()"
      ],
      "execution_count": 55,
      "outputs": [
        {
          "output_type": "stream",
          "text": [
            "__________________________________________________________________________________________________\n",
            "Layer (type)                    Output Shape         Param #     Connected to                     \n",
            "==================================================================================================\n",
            "input_4 (InputLayer)            (None, 256, 256, 3)  0                                            \n",
            "__________________________________________________________________________________________________\n",
            "conv2d_529 (Conv2D)             (None, 128, 128, 32) 864         input_4[0][0]                    \n",
            "__________________________________________________________________________________________________\n",
            "batch_normalization_396 (BatchN (None, 128, 128, 32) 128         conv2d_529[0][0]                 \n",
            "__________________________________________________________________________________________________\n",
            "swish_396 (Swish)               (None, 128, 128, 32) 0           batch_normalization_396[0][0]    \n",
            "__________________________________________________________________________________________________\n",
            "depthwise_conv2d_134 (Depthwise (None, 128, 128, 32) 288         swish_396[0][0]                  \n",
            "__________________________________________________________________________________________________\n",
            "batch_normalization_397 (BatchN (None, 128, 128, 32) 128         depthwise_conv2d_134[0][0]       \n",
            "__________________________________________________________________________________________________\n",
            "swish_397 (Swish)               (None, 128, 128, 32) 0           batch_normalization_397[0][0]    \n",
            "__________________________________________________________________________________________________\n",
            "lambda_134 (Lambda)             (None, 1, 1, 32)     0           swish_397[0][0]                  \n",
            "__________________________________________________________________________________________________\n",
            "conv2d_530 (Conv2D)             (None, 1, 1, 8)      264         lambda_134[0][0]                 \n",
            "__________________________________________________________________________________________________\n",
            "swish_398 (Swish)               (None, 1, 1, 8)      0           conv2d_530[0][0]                 \n",
            "__________________________________________________________________________________________________\n",
            "conv2d_531 (Conv2D)             (None, 1, 1, 32)     288         swish_398[0][0]                  \n",
            "__________________________________________________________________________________________________\n",
            "activation_134 (Activation)     (None, 1, 1, 32)     0           conv2d_531[0][0]                 \n",
            "__________________________________________________________________________________________________\n",
            "multiply_134 (Multiply)         (None, 128, 128, 32) 0           activation_134[0][0]             \n",
            "                                                                 swish_397[0][0]                  \n",
            "__________________________________________________________________________________________________\n",
            "conv2d_532 (Conv2D)             (None, 128, 128, 16) 512         multiply_134[0][0]               \n",
            "__________________________________________________________________________________________________\n",
            "batch_normalization_398 (BatchN (None, 128, 128, 16) 64          conv2d_532[0][0]                 \n",
            "__________________________________________________________________________________________________\n",
            "conv2d_533 (Conv2D)             (None, 128, 128, 96) 1536        batch_normalization_398[0][0]    \n",
            "__________________________________________________________________________________________________\n",
            "batch_normalization_399 (BatchN (None, 128, 128, 96) 384         conv2d_533[0][0]                 \n",
            "__________________________________________________________________________________________________\n",
            "swish_399 (Swish)               (None, 128, 128, 96) 0           batch_normalization_399[0][0]    \n",
            "__________________________________________________________________________________________________\n",
            "depthwise_conv2d_135 (Depthwise (None, 64, 64, 96)   864         swish_399[0][0]                  \n",
            "__________________________________________________________________________________________________\n",
            "batch_normalization_400 (BatchN (None, 64, 64, 96)   384         depthwise_conv2d_135[0][0]       \n",
            "__________________________________________________________________________________________________\n",
            "swish_400 (Swish)               (None, 64, 64, 96)   0           batch_normalization_400[0][0]    \n",
            "__________________________________________________________________________________________________\n",
            "lambda_135 (Lambda)             (None, 1, 1, 96)     0           swish_400[0][0]                  \n",
            "__________________________________________________________________________________________________\n",
            "conv2d_534 (Conv2D)             (None, 1, 1, 4)      388         lambda_135[0][0]                 \n",
            "__________________________________________________________________________________________________\n",
            "swish_401 (Swish)               (None, 1, 1, 4)      0           conv2d_534[0][0]                 \n",
            "__________________________________________________________________________________________________\n",
            "conv2d_535 (Conv2D)             (None, 1, 1, 96)     480         swish_401[0][0]                  \n",
            "__________________________________________________________________________________________________\n",
            "activation_135 (Activation)     (None, 1, 1, 96)     0           conv2d_535[0][0]                 \n",
            "__________________________________________________________________________________________________\n",
            "multiply_135 (Multiply)         (None, 64, 64, 96)   0           activation_135[0][0]             \n",
            "                                                                 swish_400[0][0]                  \n",
            "__________________________________________________________________________________________________\n",
            "conv2d_536 (Conv2D)             (None, 64, 64, 24)   2304        multiply_135[0][0]               \n",
            "__________________________________________________________________________________________________\n",
            "batch_normalization_401 (BatchN (None, 64, 64, 24)   96          conv2d_536[0][0]                 \n",
            "__________________________________________________________________________________________________\n",
            "conv2d_537 (Conv2D)             (None, 64, 64, 144)  3456        batch_normalization_401[0][0]    \n",
            "__________________________________________________________________________________________________\n",
            "batch_normalization_402 (BatchN (None, 64, 64, 144)  576         conv2d_537[0][0]                 \n",
            "__________________________________________________________________________________________________\n",
            "swish_402 (Swish)               (None, 64, 64, 144)  0           batch_normalization_402[0][0]    \n",
            "__________________________________________________________________________________________________\n",
            "depthwise_conv2d_136 (Depthwise (None, 64, 64, 144)  1296        swish_402[0][0]                  \n",
            "__________________________________________________________________________________________________\n",
            "batch_normalization_403 (BatchN (None, 64, 64, 144)  576         depthwise_conv2d_136[0][0]       \n",
            "__________________________________________________________________________________________________\n",
            "swish_403 (Swish)               (None, 64, 64, 144)  0           batch_normalization_403[0][0]    \n",
            "__________________________________________________________________________________________________\n",
            "lambda_136 (Lambda)             (None, 1, 1, 144)    0           swish_403[0][0]                  \n",
            "__________________________________________________________________________________________________\n",
            "conv2d_538 (Conv2D)             (None, 1, 1, 6)      870         lambda_136[0][0]                 \n",
            "__________________________________________________________________________________________________\n",
            "swish_404 (Swish)               (None, 1, 1, 6)      0           conv2d_538[0][0]                 \n",
            "__________________________________________________________________________________________________\n",
            "conv2d_539 (Conv2D)             (None, 1, 1, 144)    1008        swish_404[0][0]                  \n",
            "__________________________________________________________________________________________________\n",
            "activation_136 (Activation)     (None, 1, 1, 144)    0           conv2d_539[0][0]                 \n",
            "__________________________________________________________________________________________________\n",
            "multiply_136 (Multiply)         (None, 64, 64, 144)  0           activation_136[0][0]             \n",
            "                                                                 swish_403[0][0]                  \n",
            "__________________________________________________________________________________________________\n",
            "conv2d_540 (Conv2D)             (None, 64, 64, 24)   3456        multiply_136[0][0]               \n",
            "__________________________________________________________________________________________________\n",
            "batch_normalization_404 (BatchN (None, 64, 64, 24)   96          conv2d_540[0][0]                 \n",
            "__________________________________________________________________________________________________\n",
            "add_113 (Add)                   (None, 64, 64, 24)   0           batch_normalization_404[0][0]    \n",
            "                                                                 batch_normalization_401[0][0]    \n",
            "__________________________________________________________________________________________________\n",
            "conv2d_541 (Conv2D)             (None, 64, 64, 144)  3456        add_113[0][0]                    \n",
            "__________________________________________________________________________________________________\n",
            "batch_normalization_405 (BatchN (None, 64, 64, 144)  576         conv2d_541[0][0]                 \n",
            "__________________________________________________________________________________________________\n",
            "swish_405 (Swish)               (None, 64, 64, 144)  0           batch_normalization_405[0][0]    \n",
            "__________________________________________________________________________________________________\n",
            "depthwise_conv2d_137 (Depthwise (None, 32, 32, 144)  3600        swish_405[0][0]                  \n",
            "__________________________________________________________________________________________________\n",
            "batch_normalization_406 (BatchN (None, 32, 32, 144)  576         depthwise_conv2d_137[0][0]       \n",
            "__________________________________________________________________________________________________\n",
            "swish_406 (Swish)               (None, 32, 32, 144)  0           batch_normalization_406[0][0]    \n",
            "__________________________________________________________________________________________________\n",
            "lambda_137 (Lambda)             (None, 1, 1, 144)    0           swish_406[0][0]                  \n",
            "__________________________________________________________________________________________________\n",
            "conv2d_542 (Conv2D)             (None, 1, 1, 6)      870         lambda_137[0][0]                 \n",
            "__________________________________________________________________________________________________\n",
            "swish_407 (Swish)               (None, 1, 1, 6)      0           conv2d_542[0][0]                 \n",
            "__________________________________________________________________________________________________\n",
            "conv2d_543 (Conv2D)             (None, 1, 1, 144)    1008        swish_407[0][0]                  \n",
            "__________________________________________________________________________________________________\n",
            "activation_137 (Activation)     (None, 1, 1, 144)    0           conv2d_543[0][0]                 \n",
            "__________________________________________________________________________________________________\n",
            "multiply_137 (Multiply)         (None, 32, 32, 144)  0           activation_137[0][0]             \n",
            "                                                                 swish_406[0][0]                  \n",
            "__________________________________________________________________________________________________\n",
            "conv2d_544 (Conv2D)             (None, 32, 32, 40)   5760        multiply_137[0][0]               \n",
            "__________________________________________________________________________________________________\n",
            "batch_normalization_407 (BatchN (None, 32, 32, 40)   160         conv2d_544[0][0]                 \n",
            "__________________________________________________________________________________________________\n",
            "conv2d_545 (Conv2D)             (None, 32, 32, 240)  9600        batch_normalization_407[0][0]    \n",
            "__________________________________________________________________________________________________\n",
            "batch_normalization_408 (BatchN (None, 32, 32, 240)  960         conv2d_545[0][0]                 \n",
            "__________________________________________________________________________________________________\n",
            "swish_408 (Swish)               (None, 32, 32, 240)  0           batch_normalization_408[0][0]    \n",
            "__________________________________________________________________________________________________\n",
            "depthwise_conv2d_138 (Depthwise (None, 32, 32, 240)  6000        swish_408[0][0]                  \n",
            "__________________________________________________________________________________________________\n",
            "batch_normalization_409 (BatchN (None, 32, 32, 240)  960         depthwise_conv2d_138[0][0]       \n",
            "__________________________________________________________________________________________________\n",
            "swish_409 (Swish)               (None, 32, 32, 240)  0           batch_normalization_409[0][0]    \n",
            "__________________________________________________________________________________________________\n",
            "lambda_138 (Lambda)             (None, 1, 1, 240)    0           swish_409[0][0]                  \n",
            "__________________________________________________________________________________________________\n",
            "conv2d_546 (Conv2D)             (None, 1, 1, 10)     2410        lambda_138[0][0]                 \n",
            "__________________________________________________________________________________________________\n",
            "swish_410 (Swish)               (None, 1, 1, 10)     0           conv2d_546[0][0]                 \n",
            "__________________________________________________________________________________________________\n",
            "conv2d_547 (Conv2D)             (None, 1, 1, 240)    2640        swish_410[0][0]                  \n",
            "__________________________________________________________________________________________________\n",
            "activation_138 (Activation)     (None, 1, 1, 240)    0           conv2d_547[0][0]                 \n",
            "__________________________________________________________________________________________________\n",
            "multiply_138 (Multiply)         (None, 32, 32, 240)  0           activation_138[0][0]             \n",
            "                                                                 swish_409[0][0]                  \n",
            "__________________________________________________________________________________________________\n",
            "conv2d_548 (Conv2D)             (None, 32, 32, 40)   9600        multiply_138[0][0]               \n",
            "__________________________________________________________________________________________________\n",
            "batch_normalization_410 (BatchN (None, 32, 32, 40)   160         conv2d_548[0][0]                 \n",
            "__________________________________________________________________________________________________\n",
            "add_114 (Add)                   (None, 32, 32, 40)   0           batch_normalization_410[0][0]    \n",
            "                                                                 batch_normalization_407[0][0]    \n",
            "__________________________________________________________________________________________________\n",
            "conv2d_549 (Conv2D)             (None, 32, 32, 240)  9600        add_114[0][0]                    \n",
            "__________________________________________________________________________________________________\n",
            "batch_normalization_411 (BatchN (None, 32, 32, 240)  960         conv2d_549[0][0]                 \n",
            "__________________________________________________________________________________________________\n",
            "swish_411 (Swish)               (None, 32, 32, 240)  0           batch_normalization_411[0][0]    \n",
            "__________________________________________________________________________________________________\n",
            "depthwise_conv2d_139 (Depthwise (None, 16, 16, 240)  2160        swish_411[0][0]                  \n",
            "__________________________________________________________________________________________________\n",
            "batch_normalization_412 (BatchN (None, 16, 16, 240)  960         depthwise_conv2d_139[0][0]       \n",
            "__________________________________________________________________________________________________\n",
            "swish_412 (Swish)               (None, 16, 16, 240)  0           batch_normalization_412[0][0]    \n",
            "__________________________________________________________________________________________________\n",
            "lambda_139 (Lambda)             (None, 1, 1, 240)    0           swish_412[0][0]                  \n",
            "__________________________________________________________________________________________________\n",
            "conv2d_550 (Conv2D)             (None, 1, 1, 10)     2410        lambda_139[0][0]                 \n",
            "__________________________________________________________________________________________________\n",
            "swish_413 (Swish)               (None, 1, 1, 10)     0           conv2d_550[0][0]                 \n",
            "__________________________________________________________________________________________________\n",
            "conv2d_551 (Conv2D)             (None, 1, 1, 240)    2640        swish_413[0][0]                  \n",
            "__________________________________________________________________________________________________\n",
            "activation_139 (Activation)     (None, 1, 1, 240)    0           conv2d_551[0][0]                 \n",
            "__________________________________________________________________________________________________\n",
            "multiply_139 (Multiply)         (None, 16, 16, 240)  0           activation_139[0][0]             \n",
            "                                                                 swish_412[0][0]                  \n",
            "__________________________________________________________________________________________________\n",
            "conv2d_552 (Conv2D)             (None, 16, 16, 80)   19200       multiply_139[0][0]               \n",
            "__________________________________________________________________________________________________\n",
            "batch_normalization_413 (BatchN (None, 16, 16, 80)   320         conv2d_552[0][0]                 \n",
            "__________________________________________________________________________________________________\n",
            "conv2d_553 (Conv2D)             (None, 16, 16, 480)  38400       batch_normalization_413[0][0]    \n",
            "__________________________________________________________________________________________________\n",
            "batch_normalization_414 (BatchN (None, 16, 16, 480)  1920        conv2d_553[0][0]                 \n",
            "__________________________________________________________________________________________________\n",
            "swish_414 (Swish)               (None, 16, 16, 480)  0           batch_normalization_414[0][0]    \n",
            "__________________________________________________________________________________________________\n",
            "depthwise_conv2d_140 (Depthwise (None, 16, 16, 480)  4320        swish_414[0][0]                  \n",
            "__________________________________________________________________________________________________\n",
            "batch_normalization_415 (BatchN (None, 16, 16, 480)  1920        depthwise_conv2d_140[0][0]       \n",
            "__________________________________________________________________________________________________\n",
            "swish_415 (Swish)               (None, 16, 16, 480)  0           batch_normalization_415[0][0]    \n",
            "__________________________________________________________________________________________________\n",
            "lambda_140 (Lambda)             (None, 1, 1, 480)    0           swish_415[0][0]                  \n",
            "__________________________________________________________________________________________________\n",
            "conv2d_554 (Conv2D)             (None, 1, 1, 20)     9620        lambda_140[0][0]                 \n",
            "__________________________________________________________________________________________________\n",
            "swish_416 (Swish)               (None, 1, 1, 20)     0           conv2d_554[0][0]                 \n",
            "__________________________________________________________________________________________________\n",
            "conv2d_555 (Conv2D)             (None, 1, 1, 480)    10080       swish_416[0][0]                  \n",
            "__________________________________________________________________________________________________\n",
            "activation_140 (Activation)     (None, 1, 1, 480)    0           conv2d_555[0][0]                 \n",
            "__________________________________________________________________________________________________\n",
            "multiply_140 (Multiply)         (None, 16, 16, 480)  0           activation_140[0][0]             \n",
            "                                                                 swish_415[0][0]                  \n",
            "__________________________________________________________________________________________________\n",
            "conv2d_556 (Conv2D)             (None, 16, 16, 80)   38400       multiply_140[0][0]               \n",
            "__________________________________________________________________________________________________\n",
            "batch_normalization_416 (BatchN (None, 16, 16, 80)   320         conv2d_556[0][0]                 \n",
            "__________________________________________________________________________________________________\n",
            "add_115 (Add)                   (None, 16, 16, 80)   0           batch_normalization_416[0][0]    \n",
            "                                                                 batch_normalization_413[0][0]    \n",
            "__________________________________________________________________________________________________\n",
            "conv2d_557 (Conv2D)             (None, 16, 16, 480)  38400       add_115[0][0]                    \n",
            "__________________________________________________________________________________________________\n",
            "batch_normalization_417 (BatchN (None, 16, 16, 480)  1920        conv2d_557[0][0]                 \n",
            "__________________________________________________________________________________________________\n",
            "swish_417 (Swish)               (None, 16, 16, 480)  0           batch_normalization_417[0][0]    \n",
            "__________________________________________________________________________________________________\n",
            "depthwise_conv2d_141 (Depthwise (None, 16, 16, 480)  4320        swish_417[0][0]                  \n",
            "__________________________________________________________________________________________________\n",
            "batch_normalization_418 (BatchN (None, 16, 16, 480)  1920        depthwise_conv2d_141[0][0]       \n",
            "__________________________________________________________________________________________________\n",
            "swish_418 (Swish)               (None, 16, 16, 480)  0           batch_normalization_418[0][0]    \n",
            "__________________________________________________________________________________________________\n",
            "lambda_141 (Lambda)             (None, 1, 1, 480)    0           swish_418[0][0]                  \n",
            "__________________________________________________________________________________________________\n",
            "conv2d_558 (Conv2D)             (None, 1, 1, 20)     9620        lambda_141[0][0]                 \n",
            "__________________________________________________________________________________________________\n",
            "swish_419 (Swish)               (None, 1, 1, 20)     0           conv2d_558[0][0]                 \n",
            "__________________________________________________________________________________________________\n",
            "conv2d_559 (Conv2D)             (None, 1, 1, 480)    10080       swish_419[0][0]                  \n",
            "__________________________________________________________________________________________________\n",
            "activation_141 (Activation)     (None, 1, 1, 480)    0           conv2d_559[0][0]                 \n",
            "__________________________________________________________________________________________________\n",
            "multiply_141 (Multiply)         (None, 16, 16, 480)  0           activation_141[0][0]             \n",
            "                                                                 swish_418[0][0]                  \n",
            "__________________________________________________________________________________________________\n",
            "conv2d_560 (Conv2D)             (None, 16, 16, 80)   38400       multiply_141[0][0]               \n",
            "__________________________________________________________________________________________________\n",
            "batch_normalization_419 (BatchN (None, 16, 16, 80)   320         conv2d_560[0][0]                 \n",
            "__________________________________________________________________________________________________\n",
            "add_116 (Add)                   (None, 16, 16, 80)   0           batch_normalization_419[0][0]    \n",
            "                                                                 add_115[0][0]                    \n",
            "__________________________________________________________________________________________________\n",
            "conv2d_561 (Conv2D)             (None, 16, 16, 480)  38400       add_116[0][0]                    \n",
            "__________________________________________________________________________________________________\n",
            "batch_normalization_420 (BatchN (None, 16, 16, 480)  1920        conv2d_561[0][0]                 \n",
            "__________________________________________________________________________________________________\n",
            "swish_420 (Swish)               (None, 16, 16, 480)  0           batch_normalization_420[0][0]    \n",
            "__________________________________________________________________________________________________\n",
            "depthwise_conv2d_142 (Depthwise (None, 16, 16, 480)  12000       swish_420[0][0]                  \n",
            "__________________________________________________________________________________________________\n",
            "batch_normalization_421 (BatchN (None, 16, 16, 480)  1920        depthwise_conv2d_142[0][0]       \n",
            "__________________________________________________________________________________________________\n",
            "swish_421 (Swish)               (None, 16, 16, 480)  0           batch_normalization_421[0][0]    \n",
            "__________________________________________________________________________________________________\n",
            "lambda_142 (Lambda)             (None, 1, 1, 480)    0           swish_421[0][0]                  \n",
            "__________________________________________________________________________________________________\n",
            "conv2d_562 (Conv2D)             (None, 1, 1, 20)     9620        lambda_142[0][0]                 \n",
            "__________________________________________________________________________________________________\n",
            "swish_422 (Swish)               (None, 1, 1, 20)     0           conv2d_562[0][0]                 \n",
            "__________________________________________________________________________________________________\n",
            "conv2d_563 (Conv2D)             (None, 1, 1, 480)    10080       swish_422[0][0]                  \n",
            "__________________________________________________________________________________________________\n",
            "activation_142 (Activation)     (None, 1, 1, 480)    0           conv2d_563[0][0]                 \n",
            "__________________________________________________________________________________________________\n",
            "multiply_142 (Multiply)         (None, 16, 16, 480)  0           activation_142[0][0]             \n",
            "                                                                 swish_421[0][0]                  \n",
            "__________________________________________________________________________________________________\n",
            "conv2d_564 (Conv2D)             (None, 16, 16, 112)  53760       multiply_142[0][0]               \n",
            "__________________________________________________________________________________________________\n",
            "batch_normalization_422 (BatchN (None, 16, 16, 112)  448         conv2d_564[0][0]                 \n",
            "__________________________________________________________________________________________________\n",
            "conv2d_565 (Conv2D)             (None, 16, 16, 672)  75264       batch_normalization_422[0][0]    \n",
            "__________________________________________________________________________________________________\n",
            "batch_normalization_423 (BatchN (None, 16, 16, 672)  2688        conv2d_565[0][0]                 \n",
            "__________________________________________________________________________________________________\n",
            "swish_423 (Swish)               (None, 16, 16, 672)  0           batch_normalization_423[0][0]    \n",
            "__________________________________________________________________________________________________\n",
            "depthwise_conv2d_143 (Depthwise (None, 16, 16, 672)  16800       swish_423[0][0]                  \n",
            "__________________________________________________________________________________________________\n",
            "batch_normalization_424 (BatchN (None, 16, 16, 672)  2688        depthwise_conv2d_143[0][0]       \n",
            "__________________________________________________________________________________________________\n",
            "swish_424 (Swish)               (None, 16, 16, 672)  0           batch_normalization_424[0][0]    \n",
            "__________________________________________________________________________________________________\n",
            "lambda_143 (Lambda)             (None, 1, 1, 672)    0           swish_424[0][0]                  \n",
            "__________________________________________________________________________________________________\n",
            "conv2d_566 (Conv2D)             (None, 1, 1, 28)     18844       lambda_143[0][0]                 \n",
            "__________________________________________________________________________________________________\n",
            "swish_425 (Swish)               (None, 1, 1, 28)     0           conv2d_566[0][0]                 \n",
            "__________________________________________________________________________________________________\n",
            "conv2d_567 (Conv2D)             (None, 1, 1, 672)    19488       swish_425[0][0]                  \n",
            "__________________________________________________________________________________________________\n",
            "activation_143 (Activation)     (None, 1, 1, 672)    0           conv2d_567[0][0]                 \n",
            "__________________________________________________________________________________________________\n",
            "multiply_143 (Multiply)         (None, 16, 16, 672)  0           activation_143[0][0]             \n",
            "                                                                 swish_424[0][0]                  \n",
            "__________________________________________________________________________________________________\n",
            "conv2d_568 (Conv2D)             (None, 16, 16, 112)  75264       multiply_143[0][0]               \n",
            "__________________________________________________________________________________________________\n",
            "batch_normalization_425 (BatchN (None, 16, 16, 112)  448         conv2d_568[0][0]                 \n",
            "__________________________________________________________________________________________________\n",
            "add_117 (Add)                   (None, 16, 16, 112)  0           batch_normalization_425[0][0]    \n",
            "                                                                 batch_normalization_422[0][0]    \n",
            "__________________________________________________________________________________________________\n",
            "conv2d_569 (Conv2D)             (None, 16, 16, 672)  75264       add_117[0][0]                    \n",
            "__________________________________________________________________________________________________\n",
            "batch_normalization_426 (BatchN (None, 16, 16, 672)  2688        conv2d_569[0][0]                 \n",
            "__________________________________________________________________________________________________\n",
            "swish_426 (Swish)               (None, 16, 16, 672)  0           batch_normalization_426[0][0]    \n",
            "__________________________________________________________________________________________________\n",
            "depthwise_conv2d_144 (Depthwise (None, 16, 16, 672)  16800       swish_426[0][0]                  \n",
            "__________________________________________________________________________________________________\n",
            "batch_normalization_427 (BatchN (None, 16, 16, 672)  2688        depthwise_conv2d_144[0][0]       \n",
            "__________________________________________________________________________________________________\n",
            "swish_427 (Swish)               (None, 16, 16, 672)  0           batch_normalization_427[0][0]    \n",
            "__________________________________________________________________________________________________\n",
            "lambda_144 (Lambda)             (None, 1, 1, 672)    0           swish_427[0][0]                  \n",
            "__________________________________________________________________________________________________\n",
            "conv2d_570 (Conv2D)             (None, 1, 1, 28)     18844       lambda_144[0][0]                 \n",
            "__________________________________________________________________________________________________\n",
            "swish_428 (Swish)               (None, 1, 1, 28)     0           conv2d_570[0][0]                 \n",
            "__________________________________________________________________________________________________\n",
            "conv2d_571 (Conv2D)             (None, 1, 1, 672)    19488       swish_428[0][0]                  \n",
            "__________________________________________________________________________________________________\n",
            "activation_144 (Activation)     (None, 1, 1, 672)    0           conv2d_571[0][0]                 \n",
            "__________________________________________________________________________________________________\n",
            "multiply_144 (Multiply)         (None, 16, 16, 672)  0           activation_144[0][0]             \n",
            "                                                                 swish_427[0][0]                  \n",
            "__________________________________________________________________________________________________\n",
            "conv2d_572 (Conv2D)             (None, 16, 16, 112)  75264       multiply_144[0][0]               \n",
            "__________________________________________________________________________________________________\n",
            "batch_normalization_428 (BatchN (None, 16, 16, 112)  448         conv2d_572[0][0]                 \n",
            "__________________________________________________________________________________________________\n",
            "add_118 (Add)                   (None, 16, 16, 112)  0           batch_normalization_428[0][0]    \n",
            "                                                                 add_117[0][0]                    \n",
            "__________________________________________________________________________________________________\n",
            "conv2d_573 (Conv2D)             (None, 16, 16, 672)  75264       add_118[0][0]                    \n",
            "__________________________________________________________________________________________________\n",
            "batch_normalization_429 (BatchN (None, 16, 16, 672)  2688        conv2d_573[0][0]                 \n",
            "__________________________________________________________________________________________________\n",
            "swish_429 (Swish)               (None, 16, 16, 672)  0           batch_normalization_429[0][0]    \n",
            "__________________________________________________________________________________________________\n",
            "depthwise_conv2d_145 (Depthwise (None, 8, 8, 672)    16800       swish_429[0][0]                  \n",
            "__________________________________________________________________________________________________\n",
            "batch_normalization_430 (BatchN (None, 8, 8, 672)    2688        depthwise_conv2d_145[0][0]       \n",
            "__________________________________________________________________________________________________\n",
            "swish_430 (Swish)               (None, 8, 8, 672)    0           batch_normalization_430[0][0]    \n",
            "__________________________________________________________________________________________________\n",
            "lambda_145 (Lambda)             (None, 1, 1, 672)    0           swish_430[0][0]                  \n",
            "__________________________________________________________________________________________________\n",
            "conv2d_574 (Conv2D)             (None, 1, 1, 28)     18844       lambda_145[0][0]                 \n",
            "__________________________________________________________________________________________________\n",
            "swish_431 (Swish)               (None, 1, 1, 28)     0           conv2d_574[0][0]                 \n",
            "__________________________________________________________________________________________________\n",
            "conv2d_575 (Conv2D)             (None, 1, 1, 672)    19488       swish_431[0][0]                  \n",
            "__________________________________________________________________________________________________\n",
            "activation_145 (Activation)     (None, 1, 1, 672)    0           conv2d_575[0][0]                 \n",
            "__________________________________________________________________________________________________\n",
            "multiply_145 (Multiply)         (None, 8, 8, 672)    0           activation_145[0][0]             \n",
            "                                                                 swish_430[0][0]                  \n",
            "__________________________________________________________________________________________________\n",
            "conv2d_576 (Conv2D)             (None, 8, 8, 192)    129024      multiply_145[0][0]               \n",
            "__________________________________________________________________________________________________\n",
            "batch_normalization_431 (BatchN (None, 8, 8, 192)    768         conv2d_576[0][0]                 \n",
            "__________________________________________________________________________________________________\n",
            "conv2d_577 (Conv2D)             (None, 8, 8, 1152)   221184      batch_normalization_431[0][0]    \n",
            "__________________________________________________________________________________________________\n",
            "batch_normalization_432 (BatchN (None, 8, 8, 1152)   4608        conv2d_577[0][0]                 \n",
            "__________________________________________________________________________________________________\n",
            "swish_432 (Swish)               (None, 8, 8, 1152)   0           batch_normalization_432[0][0]    \n",
            "__________________________________________________________________________________________________\n",
            "depthwise_conv2d_146 (Depthwise (None, 8, 8, 1152)   28800       swish_432[0][0]                  \n",
            "__________________________________________________________________________________________________\n",
            "batch_normalization_433 (BatchN (None, 8, 8, 1152)   4608        depthwise_conv2d_146[0][0]       \n",
            "__________________________________________________________________________________________________\n",
            "swish_433 (Swish)               (None, 8, 8, 1152)   0           batch_normalization_433[0][0]    \n",
            "__________________________________________________________________________________________________\n",
            "lambda_146 (Lambda)             (None, 1, 1, 1152)   0           swish_433[0][0]                  \n",
            "__________________________________________________________________________________________________\n",
            "conv2d_578 (Conv2D)             (None, 1, 1, 48)     55344       lambda_146[0][0]                 \n",
            "__________________________________________________________________________________________________\n",
            "swish_434 (Swish)               (None, 1, 1, 48)     0           conv2d_578[0][0]                 \n",
            "__________________________________________________________________________________________________\n",
            "conv2d_579 (Conv2D)             (None, 1, 1, 1152)   56448       swish_434[0][0]                  \n",
            "__________________________________________________________________________________________________\n",
            "activation_146 (Activation)     (None, 1, 1, 1152)   0           conv2d_579[0][0]                 \n",
            "__________________________________________________________________________________________________\n",
            "multiply_146 (Multiply)         (None, 8, 8, 1152)   0           activation_146[0][0]             \n",
            "                                                                 swish_433[0][0]                  \n",
            "__________________________________________________________________________________________________\n",
            "conv2d_580 (Conv2D)             (None, 8, 8, 192)    221184      multiply_146[0][0]               \n",
            "__________________________________________________________________________________________________\n",
            "batch_normalization_434 (BatchN (None, 8, 8, 192)    768         conv2d_580[0][0]                 \n",
            "__________________________________________________________________________________________________\n",
            "add_119 (Add)                   (None, 8, 8, 192)    0           batch_normalization_434[0][0]    \n",
            "                                                                 batch_normalization_431[0][0]    \n",
            "__________________________________________________________________________________________________\n",
            "conv2d_581 (Conv2D)             (None, 8, 8, 1152)   221184      add_119[0][0]                    \n",
            "__________________________________________________________________________________________________\n",
            "batch_normalization_435 (BatchN (None, 8, 8, 1152)   4608        conv2d_581[0][0]                 \n",
            "__________________________________________________________________________________________________\n",
            "swish_435 (Swish)               (None, 8, 8, 1152)   0           batch_normalization_435[0][0]    \n",
            "__________________________________________________________________________________________________\n",
            "depthwise_conv2d_147 (Depthwise (None, 8, 8, 1152)   28800       swish_435[0][0]                  \n",
            "__________________________________________________________________________________________________\n",
            "batch_normalization_436 (BatchN (None, 8, 8, 1152)   4608        depthwise_conv2d_147[0][0]       \n",
            "__________________________________________________________________________________________________\n",
            "swish_436 (Swish)               (None, 8, 8, 1152)   0           batch_normalization_436[0][0]    \n",
            "__________________________________________________________________________________________________\n",
            "lambda_147 (Lambda)             (None, 1, 1, 1152)   0           swish_436[0][0]                  \n",
            "__________________________________________________________________________________________________\n",
            "conv2d_582 (Conv2D)             (None, 1, 1, 48)     55344       lambda_147[0][0]                 \n",
            "__________________________________________________________________________________________________\n",
            "swish_437 (Swish)               (None, 1, 1, 48)     0           conv2d_582[0][0]                 \n",
            "__________________________________________________________________________________________________\n",
            "conv2d_583 (Conv2D)             (None, 1, 1, 1152)   56448       swish_437[0][0]                  \n",
            "__________________________________________________________________________________________________\n",
            "activation_147 (Activation)     (None, 1, 1, 1152)   0           conv2d_583[0][0]                 \n",
            "__________________________________________________________________________________________________\n",
            "multiply_147 (Multiply)         (None, 8, 8, 1152)   0           activation_147[0][0]             \n",
            "                                                                 swish_436[0][0]                  \n",
            "__________________________________________________________________________________________________\n",
            "conv2d_584 (Conv2D)             (None, 8, 8, 192)    221184      multiply_147[0][0]               \n",
            "__________________________________________________________________________________________________\n",
            "batch_normalization_437 (BatchN (None, 8, 8, 192)    768         conv2d_584[0][0]                 \n",
            "__________________________________________________________________________________________________\n",
            "add_120 (Add)                   (None, 8, 8, 192)    0           batch_normalization_437[0][0]    \n",
            "                                                                 add_119[0][0]                    \n",
            "__________________________________________________________________________________________________\n",
            "conv2d_585 (Conv2D)             (None, 8, 8, 1152)   221184      add_120[0][0]                    \n",
            "__________________________________________________________________________________________________\n",
            "batch_normalization_438 (BatchN (None, 8, 8, 1152)   4608        conv2d_585[0][0]                 \n",
            "__________________________________________________________________________________________________\n",
            "swish_438 (Swish)               (None, 8, 8, 1152)   0           batch_normalization_438[0][0]    \n",
            "__________________________________________________________________________________________________\n",
            "depthwise_conv2d_148 (Depthwise (None, 8, 8, 1152)   28800       swish_438[0][0]                  \n",
            "__________________________________________________________________________________________________\n",
            "batch_normalization_439 (BatchN (None, 8, 8, 1152)   4608        depthwise_conv2d_148[0][0]       \n",
            "__________________________________________________________________________________________________\n",
            "swish_439 (Swish)               (None, 8, 8, 1152)   0           batch_normalization_439[0][0]    \n",
            "__________________________________________________________________________________________________\n",
            "lambda_148 (Lambda)             (None, 1, 1, 1152)   0           swish_439[0][0]                  \n",
            "__________________________________________________________________________________________________\n",
            "conv2d_586 (Conv2D)             (None, 1, 1, 48)     55344       lambda_148[0][0]                 \n",
            "__________________________________________________________________________________________________\n",
            "swish_440 (Swish)               (None, 1, 1, 48)     0           conv2d_586[0][0]                 \n",
            "__________________________________________________________________________________________________\n",
            "conv2d_587 (Conv2D)             (None, 1, 1, 1152)   56448       swish_440[0][0]                  \n",
            "__________________________________________________________________________________________________\n",
            "activation_148 (Activation)     (None, 1, 1, 1152)   0           conv2d_587[0][0]                 \n",
            "__________________________________________________________________________________________________\n",
            "multiply_148 (Multiply)         (None, 8, 8, 1152)   0           activation_148[0][0]             \n",
            "                                                                 swish_439[0][0]                  \n",
            "__________________________________________________________________________________________________\n",
            "conv2d_588 (Conv2D)             (None, 8, 8, 192)    221184      multiply_148[0][0]               \n",
            "__________________________________________________________________________________________________\n",
            "batch_normalization_440 (BatchN (None, 8, 8, 192)    768         conv2d_588[0][0]                 \n",
            "__________________________________________________________________________________________________\n",
            "add_121 (Add)                   (None, 8, 8, 192)    0           batch_normalization_440[0][0]    \n",
            "                                                                 add_120[0][0]                    \n",
            "__________________________________________________________________________________________________\n",
            "conv2d_589 (Conv2D)             (None, 8, 8, 1152)   221184      add_121[0][0]                    \n",
            "__________________________________________________________________________________________________\n",
            "batch_normalization_441 (BatchN (None, 8, 8, 1152)   4608        conv2d_589[0][0]                 \n",
            "__________________________________________________________________________________________________\n",
            "swish_441 (Swish)               (None, 8, 8, 1152)   0           batch_normalization_441[0][0]    \n",
            "__________________________________________________________________________________________________\n",
            "depthwise_conv2d_149 (Depthwise (None, 8, 8, 1152)   10368       swish_441[0][0]                  \n",
            "__________________________________________________________________________________________________\n",
            "batch_normalization_442 (BatchN (None, 8, 8, 1152)   4608        depthwise_conv2d_149[0][0]       \n",
            "__________________________________________________________________________________________________\n",
            "swish_442 (Swish)               (None, 8, 8, 1152)   0           batch_normalization_442[0][0]    \n",
            "__________________________________________________________________________________________________\n",
            "lambda_149 (Lambda)             (None, 1, 1, 1152)   0           swish_442[0][0]                  \n",
            "__________________________________________________________________________________________________\n",
            "conv2d_590 (Conv2D)             (None, 1, 1, 48)     55344       lambda_149[0][0]                 \n",
            "__________________________________________________________________________________________________\n",
            "swish_443 (Swish)               (None, 1, 1, 48)     0           conv2d_590[0][0]                 \n",
            "__________________________________________________________________________________________________\n",
            "conv2d_591 (Conv2D)             (None, 1, 1, 1152)   56448       swish_443[0][0]                  \n",
            "__________________________________________________________________________________________________\n",
            "activation_149 (Activation)     (None, 1, 1, 1152)   0           conv2d_591[0][0]                 \n",
            "__________________________________________________________________________________________________\n",
            "multiply_149 (Multiply)         (None, 8, 8, 1152)   0           activation_149[0][0]             \n",
            "                                                                 swish_442[0][0]                  \n",
            "__________________________________________________________________________________________________\n",
            "conv2d_592 (Conv2D)             (None, 8, 8, 320)    368640      multiply_149[0][0]               \n",
            "__________________________________________________________________________________________________\n",
            "batch_normalization_443 (BatchN (None, 8, 8, 320)    1280        conv2d_592[0][0]                 \n",
            "__________________________________________________________________________________________________\n",
            "conv2d_593 (Conv2D)             (None, 8, 8, 1280)   409600      batch_normalization_443[0][0]    \n",
            "__________________________________________________________________________________________________\n",
            "batch_normalization_444 (BatchN (None, 8, 8, 1280)   5120        conv2d_593[0][0]                 \n",
            "__________________________________________________________________________________________________\n",
            "swish_444 (Swish)               (None, 8, 8, 1280)   0           batch_normalization_444[0][0]    \n",
            "==================================================================================================\n",
            "Total params: 4,049,564\n",
            "Trainable params: 4,007,548\n",
            "Non-trainable params: 42,016\n",
            "__________________________________________________________________________________________________\n"
          ],
          "name": "stdout"
        }
      ]
    },
    {
      "cell_type": "code",
      "metadata": {
        "id": "fdQ0ee9QDm0l",
        "colab_type": "code",
        "colab": {}
      },
      "source": [
        "### adding output layer for flower classification\n",
        "av1 = GlobalAveragePooling2D()(model.output)\n",
        "fc1 = Dense(256, activation='relu')(av1)\n",
        "d1 = Dropout(0.25)(fc1)\n",
        "\n",
        "av2 = GlobalAveragePooling2D()(model.output)\n",
        "fc2 = Dense(128, activation='relu')(av2)\n",
        "d2 = Dropout(0.25)(fc2)\n",
        "\n",
        "fc3 = Dense(102, activation='softmax')(d2)"
      ],
      "execution_count": 0,
      "outputs": []
    },
    {
      "cell_type": "code",
      "metadata": {
        "id": "fgXMOnTKDmx3",
        "colab_type": "code",
        "colab": {}
      },
      "source": [
        "model = Model(model.input, outputs  = fc3)"
      ],
      "execution_count": 0,
      "outputs": []
    },
    {
      "cell_type": "code",
      "metadata": {
        "id": "Md-AGr8sDmvU",
        "colab_type": "code",
        "colab": {
          "base_uri": "https://localhost:8080/",
          "height": 1000
        },
        "outputId": "a0164a80-a5bb-45e8-92b3-1e73efda35fb"
      },
      "source": [
        "model.summary()"
      ],
      "execution_count": 58,
      "outputs": [
        {
          "output_type": "stream",
          "text": [
            "__________________________________________________________________________________________________\n",
            "Layer (type)                    Output Shape         Param #     Connected to                     \n",
            "==================================================================================================\n",
            "input_4 (InputLayer)            (None, 256, 256, 3)  0                                            \n",
            "__________________________________________________________________________________________________\n",
            "conv2d_529 (Conv2D)             (None, 128, 128, 32) 864         input_4[0][0]                    \n",
            "__________________________________________________________________________________________________\n",
            "batch_normalization_396 (BatchN (None, 128, 128, 32) 128         conv2d_529[0][0]                 \n",
            "__________________________________________________________________________________________________\n",
            "swish_396 (Swish)               (None, 128, 128, 32) 0           batch_normalization_396[0][0]    \n",
            "__________________________________________________________________________________________________\n",
            "depthwise_conv2d_134 (Depthwise (None, 128, 128, 32) 288         swish_396[0][0]                  \n",
            "__________________________________________________________________________________________________\n",
            "batch_normalization_397 (BatchN (None, 128, 128, 32) 128         depthwise_conv2d_134[0][0]       \n",
            "__________________________________________________________________________________________________\n",
            "swish_397 (Swish)               (None, 128, 128, 32) 0           batch_normalization_397[0][0]    \n",
            "__________________________________________________________________________________________________\n",
            "lambda_134 (Lambda)             (None, 1, 1, 32)     0           swish_397[0][0]                  \n",
            "__________________________________________________________________________________________________\n",
            "conv2d_530 (Conv2D)             (None, 1, 1, 8)      264         lambda_134[0][0]                 \n",
            "__________________________________________________________________________________________________\n",
            "swish_398 (Swish)               (None, 1, 1, 8)      0           conv2d_530[0][0]                 \n",
            "__________________________________________________________________________________________________\n",
            "conv2d_531 (Conv2D)             (None, 1, 1, 32)     288         swish_398[0][0]                  \n",
            "__________________________________________________________________________________________________\n",
            "activation_134 (Activation)     (None, 1, 1, 32)     0           conv2d_531[0][0]                 \n",
            "__________________________________________________________________________________________________\n",
            "multiply_134 (Multiply)         (None, 128, 128, 32) 0           activation_134[0][0]             \n",
            "                                                                 swish_397[0][0]                  \n",
            "__________________________________________________________________________________________________\n",
            "conv2d_532 (Conv2D)             (None, 128, 128, 16) 512         multiply_134[0][0]               \n",
            "__________________________________________________________________________________________________\n",
            "batch_normalization_398 (BatchN (None, 128, 128, 16) 64          conv2d_532[0][0]                 \n",
            "__________________________________________________________________________________________________\n",
            "conv2d_533 (Conv2D)             (None, 128, 128, 96) 1536        batch_normalization_398[0][0]    \n",
            "__________________________________________________________________________________________________\n",
            "batch_normalization_399 (BatchN (None, 128, 128, 96) 384         conv2d_533[0][0]                 \n",
            "__________________________________________________________________________________________________\n",
            "swish_399 (Swish)               (None, 128, 128, 96) 0           batch_normalization_399[0][0]    \n",
            "__________________________________________________________________________________________________\n",
            "depthwise_conv2d_135 (Depthwise (None, 64, 64, 96)   864         swish_399[0][0]                  \n",
            "__________________________________________________________________________________________________\n",
            "batch_normalization_400 (BatchN (None, 64, 64, 96)   384         depthwise_conv2d_135[0][0]       \n",
            "__________________________________________________________________________________________________\n",
            "swish_400 (Swish)               (None, 64, 64, 96)   0           batch_normalization_400[0][0]    \n",
            "__________________________________________________________________________________________________\n",
            "lambda_135 (Lambda)             (None, 1, 1, 96)     0           swish_400[0][0]                  \n",
            "__________________________________________________________________________________________________\n",
            "conv2d_534 (Conv2D)             (None, 1, 1, 4)      388         lambda_135[0][0]                 \n",
            "__________________________________________________________________________________________________\n",
            "swish_401 (Swish)               (None, 1, 1, 4)      0           conv2d_534[0][0]                 \n",
            "__________________________________________________________________________________________________\n",
            "conv2d_535 (Conv2D)             (None, 1, 1, 96)     480         swish_401[0][0]                  \n",
            "__________________________________________________________________________________________________\n",
            "activation_135 (Activation)     (None, 1, 1, 96)     0           conv2d_535[0][0]                 \n",
            "__________________________________________________________________________________________________\n",
            "multiply_135 (Multiply)         (None, 64, 64, 96)   0           activation_135[0][0]             \n",
            "                                                                 swish_400[0][0]                  \n",
            "__________________________________________________________________________________________________\n",
            "conv2d_536 (Conv2D)             (None, 64, 64, 24)   2304        multiply_135[0][0]               \n",
            "__________________________________________________________________________________________________\n",
            "batch_normalization_401 (BatchN (None, 64, 64, 24)   96          conv2d_536[0][0]                 \n",
            "__________________________________________________________________________________________________\n",
            "conv2d_537 (Conv2D)             (None, 64, 64, 144)  3456        batch_normalization_401[0][0]    \n",
            "__________________________________________________________________________________________________\n",
            "batch_normalization_402 (BatchN (None, 64, 64, 144)  576         conv2d_537[0][0]                 \n",
            "__________________________________________________________________________________________________\n",
            "swish_402 (Swish)               (None, 64, 64, 144)  0           batch_normalization_402[0][0]    \n",
            "__________________________________________________________________________________________________\n",
            "depthwise_conv2d_136 (Depthwise (None, 64, 64, 144)  1296        swish_402[0][0]                  \n",
            "__________________________________________________________________________________________________\n",
            "batch_normalization_403 (BatchN (None, 64, 64, 144)  576         depthwise_conv2d_136[0][0]       \n",
            "__________________________________________________________________________________________________\n",
            "swish_403 (Swish)               (None, 64, 64, 144)  0           batch_normalization_403[0][0]    \n",
            "__________________________________________________________________________________________________\n",
            "lambda_136 (Lambda)             (None, 1, 1, 144)    0           swish_403[0][0]                  \n",
            "__________________________________________________________________________________________________\n",
            "conv2d_538 (Conv2D)             (None, 1, 1, 6)      870         lambda_136[0][0]                 \n",
            "__________________________________________________________________________________________________\n",
            "swish_404 (Swish)               (None, 1, 1, 6)      0           conv2d_538[0][0]                 \n",
            "__________________________________________________________________________________________________\n",
            "conv2d_539 (Conv2D)             (None, 1, 1, 144)    1008        swish_404[0][0]                  \n",
            "__________________________________________________________________________________________________\n",
            "activation_136 (Activation)     (None, 1, 1, 144)    0           conv2d_539[0][0]                 \n",
            "__________________________________________________________________________________________________\n",
            "multiply_136 (Multiply)         (None, 64, 64, 144)  0           activation_136[0][0]             \n",
            "                                                                 swish_403[0][0]                  \n",
            "__________________________________________________________________________________________________\n",
            "conv2d_540 (Conv2D)             (None, 64, 64, 24)   3456        multiply_136[0][0]               \n",
            "__________________________________________________________________________________________________\n",
            "batch_normalization_404 (BatchN (None, 64, 64, 24)   96          conv2d_540[0][0]                 \n",
            "__________________________________________________________________________________________________\n",
            "add_113 (Add)                   (None, 64, 64, 24)   0           batch_normalization_404[0][0]    \n",
            "                                                                 batch_normalization_401[0][0]    \n",
            "__________________________________________________________________________________________________\n",
            "conv2d_541 (Conv2D)             (None, 64, 64, 144)  3456        add_113[0][0]                    \n",
            "__________________________________________________________________________________________________\n",
            "batch_normalization_405 (BatchN (None, 64, 64, 144)  576         conv2d_541[0][0]                 \n",
            "__________________________________________________________________________________________________\n",
            "swish_405 (Swish)               (None, 64, 64, 144)  0           batch_normalization_405[0][0]    \n",
            "__________________________________________________________________________________________________\n",
            "depthwise_conv2d_137 (Depthwise (None, 32, 32, 144)  3600        swish_405[0][0]                  \n",
            "__________________________________________________________________________________________________\n",
            "batch_normalization_406 (BatchN (None, 32, 32, 144)  576         depthwise_conv2d_137[0][0]       \n",
            "__________________________________________________________________________________________________\n",
            "swish_406 (Swish)               (None, 32, 32, 144)  0           batch_normalization_406[0][0]    \n",
            "__________________________________________________________________________________________________\n",
            "lambda_137 (Lambda)             (None, 1, 1, 144)    0           swish_406[0][0]                  \n",
            "__________________________________________________________________________________________________\n",
            "conv2d_542 (Conv2D)             (None, 1, 1, 6)      870         lambda_137[0][0]                 \n",
            "__________________________________________________________________________________________________\n",
            "swish_407 (Swish)               (None, 1, 1, 6)      0           conv2d_542[0][0]                 \n",
            "__________________________________________________________________________________________________\n",
            "conv2d_543 (Conv2D)             (None, 1, 1, 144)    1008        swish_407[0][0]                  \n",
            "__________________________________________________________________________________________________\n",
            "activation_137 (Activation)     (None, 1, 1, 144)    0           conv2d_543[0][0]                 \n",
            "__________________________________________________________________________________________________\n",
            "multiply_137 (Multiply)         (None, 32, 32, 144)  0           activation_137[0][0]             \n",
            "                                                                 swish_406[0][0]                  \n",
            "__________________________________________________________________________________________________\n",
            "conv2d_544 (Conv2D)             (None, 32, 32, 40)   5760        multiply_137[0][0]               \n",
            "__________________________________________________________________________________________________\n",
            "batch_normalization_407 (BatchN (None, 32, 32, 40)   160         conv2d_544[0][0]                 \n",
            "__________________________________________________________________________________________________\n",
            "conv2d_545 (Conv2D)             (None, 32, 32, 240)  9600        batch_normalization_407[0][0]    \n",
            "__________________________________________________________________________________________________\n",
            "batch_normalization_408 (BatchN (None, 32, 32, 240)  960         conv2d_545[0][0]                 \n",
            "__________________________________________________________________________________________________\n",
            "swish_408 (Swish)               (None, 32, 32, 240)  0           batch_normalization_408[0][0]    \n",
            "__________________________________________________________________________________________________\n",
            "depthwise_conv2d_138 (Depthwise (None, 32, 32, 240)  6000        swish_408[0][0]                  \n",
            "__________________________________________________________________________________________________\n",
            "batch_normalization_409 (BatchN (None, 32, 32, 240)  960         depthwise_conv2d_138[0][0]       \n",
            "__________________________________________________________________________________________________\n",
            "swish_409 (Swish)               (None, 32, 32, 240)  0           batch_normalization_409[0][0]    \n",
            "__________________________________________________________________________________________________\n",
            "lambda_138 (Lambda)             (None, 1, 1, 240)    0           swish_409[0][0]                  \n",
            "__________________________________________________________________________________________________\n",
            "conv2d_546 (Conv2D)             (None, 1, 1, 10)     2410        lambda_138[0][0]                 \n",
            "__________________________________________________________________________________________________\n",
            "swish_410 (Swish)               (None, 1, 1, 10)     0           conv2d_546[0][0]                 \n",
            "__________________________________________________________________________________________________\n",
            "conv2d_547 (Conv2D)             (None, 1, 1, 240)    2640        swish_410[0][0]                  \n",
            "__________________________________________________________________________________________________\n",
            "activation_138 (Activation)     (None, 1, 1, 240)    0           conv2d_547[0][0]                 \n",
            "__________________________________________________________________________________________________\n",
            "multiply_138 (Multiply)         (None, 32, 32, 240)  0           activation_138[0][0]             \n",
            "                                                                 swish_409[0][0]                  \n",
            "__________________________________________________________________________________________________\n",
            "conv2d_548 (Conv2D)             (None, 32, 32, 40)   9600        multiply_138[0][0]               \n",
            "__________________________________________________________________________________________________\n",
            "batch_normalization_410 (BatchN (None, 32, 32, 40)   160         conv2d_548[0][0]                 \n",
            "__________________________________________________________________________________________________\n",
            "add_114 (Add)                   (None, 32, 32, 40)   0           batch_normalization_410[0][0]    \n",
            "                                                                 batch_normalization_407[0][0]    \n",
            "__________________________________________________________________________________________________\n",
            "conv2d_549 (Conv2D)             (None, 32, 32, 240)  9600        add_114[0][0]                    \n",
            "__________________________________________________________________________________________________\n",
            "batch_normalization_411 (BatchN (None, 32, 32, 240)  960         conv2d_549[0][0]                 \n",
            "__________________________________________________________________________________________________\n",
            "swish_411 (Swish)               (None, 32, 32, 240)  0           batch_normalization_411[0][0]    \n",
            "__________________________________________________________________________________________________\n",
            "depthwise_conv2d_139 (Depthwise (None, 16, 16, 240)  2160        swish_411[0][0]                  \n",
            "__________________________________________________________________________________________________\n",
            "batch_normalization_412 (BatchN (None, 16, 16, 240)  960         depthwise_conv2d_139[0][0]       \n",
            "__________________________________________________________________________________________________\n",
            "swish_412 (Swish)               (None, 16, 16, 240)  0           batch_normalization_412[0][0]    \n",
            "__________________________________________________________________________________________________\n",
            "lambda_139 (Lambda)             (None, 1, 1, 240)    0           swish_412[0][0]                  \n",
            "__________________________________________________________________________________________________\n",
            "conv2d_550 (Conv2D)             (None, 1, 1, 10)     2410        lambda_139[0][0]                 \n",
            "__________________________________________________________________________________________________\n",
            "swish_413 (Swish)               (None, 1, 1, 10)     0           conv2d_550[0][0]                 \n",
            "__________________________________________________________________________________________________\n",
            "conv2d_551 (Conv2D)             (None, 1, 1, 240)    2640        swish_413[0][0]                  \n",
            "__________________________________________________________________________________________________\n",
            "activation_139 (Activation)     (None, 1, 1, 240)    0           conv2d_551[0][0]                 \n",
            "__________________________________________________________________________________________________\n",
            "multiply_139 (Multiply)         (None, 16, 16, 240)  0           activation_139[0][0]             \n",
            "                                                                 swish_412[0][0]                  \n",
            "__________________________________________________________________________________________________\n",
            "conv2d_552 (Conv2D)             (None, 16, 16, 80)   19200       multiply_139[0][0]               \n",
            "__________________________________________________________________________________________________\n",
            "batch_normalization_413 (BatchN (None, 16, 16, 80)   320         conv2d_552[0][0]                 \n",
            "__________________________________________________________________________________________________\n",
            "conv2d_553 (Conv2D)             (None, 16, 16, 480)  38400       batch_normalization_413[0][0]    \n",
            "__________________________________________________________________________________________________\n",
            "batch_normalization_414 (BatchN (None, 16, 16, 480)  1920        conv2d_553[0][0]                 \n",
            "__________________________________________________________________________________________________\n",
            "swish_414 (Swish)               (None, 16, 16, 480)  0           batch_normalization_414[0][0]    \n",
            "__________________________________________________________________________________________________\n",
            "depthwise_conv2d_140 (Depthwise (None, 16, 16, 480)  4320        swish_414[0][0]                  \n",
            "__________________________________________________________________________________________________\n",
            "batch_normalization_415 (BatchN (None, 16, 16, 480)  1920        depthwise_conv2d_140[0][0]       \n",
            "__________________________________________________________________________________________________\n",
            "swish_415 (Swish)               (None, 16, 16, 480)  0           batch_normalization_415[0][0]    \n",
            "__________________________________________________________________________________________________\n",
            "lambda_140 (Lambda)             (None, 1, 1, 480)    0           swish_415[0][0]                  \n",
            "__________________________________________________________________________________________________\n",
            "conv2d_554 (Conv2D)             (None, 1, 1, 20)     9620        lambda_140[0][0]                 \n",
            "__________________________________________________________________________________________________\n",
            "swish_416 (Swish)               (None, 1, 1, 20)     0           conv2d_554[0][0]                 \n",
            "__________________________________________________________________________________________________\n",
            "conv2d_555 (Conv2D)             (None, 1, 1, 480)    10080       swish_416[0][0]                  \n",
            "__________________________________________________________________________________________________\n",
            "activation_140 (Activation)     (None, 1, 1, 480)    0           conv2d_555[0][0]                 \n",
            "__________________________________________________________________________________________________\n",
            "multiply_140 (Multiply)         (None, 16, 16, 480)  0           activation_140[0][0]             \n",
            "                                                                 swish_415[0][0]                  \n",
            "__________________________________________________________________________________________________\n",
            "conv2d_556 (Conv2D)             (None, 16, 16, 80)   38400       multiply_140[0][0]               \n",
            "__________________________________________________________________________________________________\n",
            "batch_normalization_416 (BatchN (None, 16, 16, 80)   320         conv2d_556[0][0]                 \n",
            "__________________________________________________________________________________________________\n",
            "add_115 (Add)                   (None, 16, 16, 80)   0           batch_normalization_416[0][0]    \n",
            "                                                                 batch_normalization_413[0][0]    \n",
            "__________________________________________________________________________________________________\n",
            "conv2d_557 (Conv2D)             (None, 16, 16, 480)  38400       add_115[0][0]                    \n",
            "__________________________________________________________________________________________________\n",
            "batch_normalization_417 (BatchN (None, 16, 16, 480)  1920        conv2d_557[0][0]                 \n",
            "__________________________________________________________________________________________________\n",
            "swish_417 (Swish)               (None, 16, 16, 480)  0           batch_normalization_417[0][0]    \n",
            "__________________________________________________________________________________________________\n",
            "depthwise_conv2d_141 (Depthwise (None, 16, 16, 480)  4320        swish_417[0][0]                  \n",
            "__________________________________________________________________________________________________\n",
            "batch_normalization_418 (BatchN (None, 16, 16, 480)  1920        depthwise_conv2d_141[0][0]       \n",
            "__________________________________________________________________________________________________\n",
            "swish_418 (Swish)               (None, 16, 16, 480)  0           batch_normalization_418[0][0]    \n",
            "__________________________________________________________________________________________________\n",
            "lambda_141 (Lambda)             (None, 1, 1, 480)    0           swish_418[0][0]                  \n",
            "__________________________________________________________________________________________________\n",
            "conv2d_558 (Conv2D)             (None, 1, 1, 20)     9620        lambda_141[0][0]                 \n",
            "__________________________________________________________________________________________________\n",
            "swish_419 (Swish)               (None, 1, 1, 20)     0           conv2d_558[0][0]                 \n",
            "__________________________________________________________________________________________________\n",
            "conv2d_559 (Conv2D)             (None, 1, 1, 480)    10080       swish_419[0][0]                  \n",
            "__________________________________________________________________________________________________\n",
            "activation_141 (Activation)     (None, 1, 1, 480)    0           conv2d_559[0][0]                 \n",
            "__________________________________________________________________________________________________\n",
            "multiply_141 (Multiply)         (None, 16, 16, 480)  0           activation_141[0][0]             \n",
            "                                                                 swish_418[0][0]                  \n",
            "__________________________________________________________________________________________________\n",
            "conv2d_560 (Conv2D)             (None, 16, 16, 80)   38400       multiply_141[0][0]               \n",
            "__________________________________________________________________________________________________\n",
            "batch_normalization_419 (BatchN (None, 16, 16, 80)   320         conv2d_560[0][0]                 \n",
            "__________________________________________________________________________________________________\n",
            "add_116 (Add)                   (None, 16, 16, 80)   0           batch_normalization_419[0][0]    \n",
            "                                                                 add_115[0][0]                    \n",
            "__________________________________________________________________________________________________\n",
            "conv2d_561 (Conv2D)             (None, 16, 16, 480)  38400       add_116[0][0]                    \n",
            "__________________________________________________________________________________________________\n",
            "batch_normalization_420 (BatchN (None, 16, 16, 480)  1920        conv2d_561[0][0]                 \n",
            "__________________________________________________________________________________________________\n",
            "swish_420 (Swish)               (None, 16, 16, 480)  0           batch_normalization_420[0][0]    \n",
            "__________________________________________________________________________________________________\n",
            "depthwise_conv2d_142 (Depthwise (None, 16, 16, 480)  12000       swish_420[0][0]                  \n",
            "__________________________________________________________________________________________________\n",
            "batch_normalization_421 (BatchN (None, 16, 16, 480)  1920        depthwise_conv2d_142[0][0]       \n",
            "__________________________________________________________________________________________________\n",
            "swish_421 (Swish)               (None, 16, 16, 480)  0           batch_normalization_421[0][0]    \n",
            "__________________________________________________________________________________________________\n",
            "lambda_142 (Lambda)             (None, 1, 1, 480)    0           swish_421[0][0]                  \n",
            "__________________________________________________________________________________________________\n",
            "conv2d_562 (Conv2D)             (None, 1, 1, 20)     9620        lambda_142[0][0]                 \n",
            "__________________________________________________________________________________________________\n",
            "swish_422 (Swish)               (None, 1, 1, 20)     0           conv2d_562[0][0]                 \n",
            "__________________________________________________________________________________________________\n",
            "conv2d_563 (Conv2D)             (None, 1, 1, 480)    10080       swish_422[0][0]                  \n",
            "__________________________________________________________________________________________________\n",
            "activation_142 (Activation)     (None, 1, 1, 480)    0           conv2d_563[0][0]                 \n",
            "__________________________________________________________________________________________________\n",
            "multiply_142 (Multiply)         (None, 16, 16, 480)  0           activation_142[0][0]             \n",
            "                                                                 swish_421[0][0]                  \n",
            "__________________________________________________________________________________________________\n",
            "conv2d_564 (Conv2D)             (None, 16, 16, 112)  53760       multiply_142[0][0]               \n",
            "__________________________________________________________________________________________________\n",
            "batch_normalization_422 (BatchN (None, 16, 16, 112)  448         conv2d_564[0][0]                 \n",
            "__________________________________________________________________________________________________\n",
            "conv2d_565 (Conv2D)             (None, 16, 16, 672)  75264       batch_normalization_422[0][0]    \n",
            "__________________________________________________________________________________________________\n",
            "batch_normalization_423 (BatchN (None, 16, 16, 672)  2688        conv2d_565[0][0]                 \n",
            "__________________________________________________________________________________________________\n",
            "swish_423 (Swish)               (None, 16, 16, 672)  0           batch_normalization_423[0][0]    \n",
            "__________________________________________________________________________________________________\n",
            "depthwise_conv2d_143 (Depthwise (None, 16, 16, 672)  16800       swish_423[0][0]                  \n",
            "__________________________________________________________________________________________________\n",
            "batch_normalization_424 (BatchN (None, 16, 16, 672)  2688        depthwise_conv2d_143[0][0]       \n",
            "__________________________________________________________________________________________________\n",
            "swish_424 (Swish)               (None, 16, 16, 672)  0           batch_normalization_424[0][0]    \n",
            "__________________________________________________________________________________________________\n",
            "lambda_143 (Lambda)             (None, 1, 1, 672)    0           swish_424[0][0]                  \n",
            "__________________________________________________________________________________________________\n",
            "conv2d_566 (Conv2D)             (None, 1, 1, 28)     18844       lambda_143[0][0]                 \n",
            "__________________________________________________________________________________________________\n",
            "swish_425 (Swish)               (None, 1, 1, 28)     0           conv2d_566[0][0]                 \n",
            "__________________________________________________________________________________________________\n",
            "conv2d_567 (Conv2D)             (None, 1, 1, 672)    19488       swish_425[0][0]                  \n",
            "__________________________________________________________________________________________________\n",
            "activation_143 (Activation)     (None, 1, 1, 672)    0           conv2d_567[0][0]                 \n",
            "__________________________________________________________________________________________________\n",
            "multiply_143 (Multiply)         (None, 16, 16, 672)  0           activation_143[0][0]             \n",
            "                                                                 swish_424[0][0]                  \n",
            "__________________________________________________________________________________________________\n",
            "conv2d_568 (Conv2D)             (None, 16, 16, 112)  75264       multiply_143[0][0]               \n",
            "__________________________________________________________________________________________________\n",
            "batch_normalization_425 (BatchN (None, 16, 16, 112)  448         conv2d_568[0][0]                 \n",
            "__________________________________________________________________________________________________\n",
            "add_117 (Add)                   (None, 16, 16, 112)  0           batch_normalization_425[0][0]    \n",
            "                                                                 batch_normalization_422[0][0]    \n",
            "__________________________________________________________________________________________________\n",
            "conv2d_569 (Conv2D)             (None, 16, 16, 672)  75264       add_117[0][0]                    \n",
            "__________________________________________________________________________________________________\n",
            "batch_normalization_426 (BatchN (None, 16, 16, 672)  2688        conv2d_569[0][0]                 \n",
            "__________________________________________________________________________________________________\n",
            "swish_426 (Swish)               (None, 16, 16, 672)  0           batch_normalization_426[0][0]    \n",
            "__________________________________________________________________________________________________\n",
            "depthwise_conv2d_144 (Depthwise (None, 16, 16, 672)  16800       swish_426[0][0]                  \n",
            "__________________________________________________________________________________________________\n",
            "batch_normalization_427 (BatchN (None, 16, 16, 672)  2688        depthwise_conv2d_144[0][0]       \n",
            "__________________________________________________________________________________________________\n",
            "swish_427 (Swish)               (None, 16, 16, 672)  0           batch_normalization_427[0][0]    \n",
            "__________________________________________________________________________________________________\n",
            "lambda_144 (Lambda)             (None, 1, 1, 672)    0           swish_427[0][0]                  \n",
            "__________________________________________________________________________________________________\n",
            "conv2d_570 (Conv2D)             (None, 1, 1, 28)     18844       lambda_144[0][0]                 \n",
            "__________________________________________________________________________________________________\n",
            "swish_428 (Swish)               (None, 1, 1, 28)     0           conv2d_570[0][0]                 \n",
            "__________________________________________________________________________________________________\n",
            "conv2d_571 (Conv2D)             (None, 1, 1, 672)    19488       swish_428[0][0]                  \n",
            "__________________________________________________________________________________________________\n",
            "activation_144 (Activation)     (None, 1, 1, 672)    0           conv2d_571[0][0]                 \n",
            "__________________________________________________________________________________________________\n",
            "multiply_144 (Multiply)         (None, 16, 16, 672)  0           activation_144[0][0]             \n",
            "                                                                 swish_427[0][0]                  \n",
            "__________________________________________________________________________________________________\n",
            "conv2d_572 (Conv2D)             (None, 16, 16, 112)  75264       multiply_144[0][0]               \n",
            "__________________________________________________________________________________________________\n",
            "batch_normalization_428 (BatchN (None, 16, 16, 112)  448         conv2d_572[0][0]                 \n",
            "__________________________________________________________________________________________________\n",
            "add_118 (Add)                   (None, 16, 16, 112)  0           batch_normalization_428[0][0]    \n",
            "                                                                 add_117[0][0]                    \n",
            "__________________________________________________________________________________________________\n",
            "conv2d_573 (Conv2D)             (None, 16, 16, 672)  75264       add_118[0][0]                    \n",
            "__________________________________________________________________________________________________\n",
            "batch_normalization_429 (BatchN (None, 16, 16, 672)  2688        conv2d_573[0][0]                 \n",
            "__________________________________________________________________________________________________\n",
            "swish_429 (Swish)               (None, 16, 16, 672)  0           batch_normalization_429[0][0]    \n",
            "__________________________________________________________________________________________________\n",
            "depthwise_conv2d_145 (Depthwise (None, 8, 8, 672)    16800       swish_429[0][0]                  \n",
            "__________________________________________________________________________________________________\n",
            "batch_normalization_430 (BatchN (None, 8, 8, 672)    2688        depthwise_conv2d_145[0][0]       \n",
            "__________________________________________________________________________________________________\n",
            "swish_430 (Swish)               (None, 8, 8, 672)    0           batch_normalization_430[0][0]    \n",
            "__________________________________________________________________________________________________\n",
            "lambda_145 (Lambda)             (None, 1, 1, 672)    0           swish_430[0][0]                  \n",
            "__________________________________________________________________________________________________\n",
            "conv2d_574 (Conv2D)             (None, 1, 1, 28)     18844       lambda_145[0][0]                 \n",
            "__________________________________________________________________________________________________\n",
            "swish_431 (Swish)               (None, 1, 1, 28)     0           conv2d_574[0][0]                 \n",
            "__________________________________________________________________________________________________\n",
            "conv2d_575 (Conv2D)             (None, 1, 1, 672)    19488       swish_431[0][0]                  \n",
            "__________________________________________________________________________________________________\n",
            "activation_145 (Activation)     (None, 1, 1, 672)    0           conv2d_575[0][0]                 \n",
            "__________________________________________________________________________________________________\n",
            "multiply_145 (Multiply)         (None, 8, 8, 672)    0           activation_145[0][0]             \n",
            "                                                                 swish_430[0][0]                  \n",
            "__________________________________________________________________________________________________\n",
            "conv2d_576 (Conv2D)             (None, 8, 8, 192)    129024      multiply_145[0][0]               \n",
            "__________________________________________________________________________________________________\n",
            "batch_normalization_431 (BatchN (None, 8, 8, 192)    768         conv2d_576[0][0]                 \n",
            "__________________________________________________________________________________________________\n",
            "conv2d_577 (Conv2D)             (None, 8, 8, 1152)   221184      batch_normalization_431[0][0]    \n",
            "__________________________________________________________________________________________________\n",
            "batch_normalization_432 (BatchN (None, 8, 8, 1152)   4608        conv2d_577[0][0]                 \n",
            "__________________________________________________________________________________________________\n",
            "swish_432 (Swish)               (None, 8, 8, 1152)   0           batch_normalization_432[0][0]    \n",
            "__________________________________________________________________________________________________\n",
            "depthwise_conv2d_146 (Depthwise (None, 8, 8, 1152)   28800       swish_432[0][0]                  \n",
            "__________________________________________________________________________________________________\n",
            "batch_normalization_433 (BatchN (None, 8, 8, 1152)   4608        depthwise_conv2d_146[0][0]       \n",
            "__________________________________________________________________________________________________\n",
            "swish_433 (Swish)               (None, 8, 8, 1152)   0           batch_normalization_433[0][0]    \n",
            "__________________________________________________________________________________________________\n",
            "lambda_146 (Lambda)             (None, 1, 1, 1152)   0           swish_433[0][0]                  \n",
            "__________________________________________________________________________________________________\n",
            "conv2d_578 (Conv2D)             (None, 1, 1, 48)     55344       lambda_146[0][0]                 \n",
            "__________________________________________________________________________________________________\n",
            "swish_434 (Swish)               (None, 1, 1, 48)     0           conv2d_578[0][0]                 \n",
            "__________________________________________________________________________________________________\n",
            "conv2d_579 (Conv2D)             (None, 1, 1, 1152)   56448       swish_434[0][0]                  \n",
            "__________________________________________________________________________________________________\n",
            "activation_146 (Activation)     (None, 1, 1, 1152)   0           conv2d_579[0][0]                 \n",
            "__________________________________________________________________________________________________\n",
            "multiply_146 (Multiply)         (None, 8, 8, 1152)   0           activation_146[0][0]             \n",
            "                                                                 swish_433[0][0]                  \n",
            "__________________________________________________________________________________________________\n",
            "conv2d_580 (Conv2D)             (None, 8, 8, 192)    221184      multiply_146[0][0]               \n",
            "__________________________________________________________________________________________________\n",
            "batch_normalization_434 (BatchN (None, 8, 8, 192)    768         conv2d_580[0][0]                 \n",
            "__________________________________________________________________________________________________\n",
            "add_119 (Add)                   (None, 8, 8, 192)    0           batch_normalization_434[0][0]    \n",
            "                                                                 batch_normalization_431[0][0]    \n",
            "__________________________________________________________________________________________________\n",
            "conv2d_581 (Conv2D)             (None, 8, 8, 1152)   221184      add_119[0][0]                    \n",
            "__________________________________________________________________________________________________\n",
            "batch_normalization_435 (BatchN (None, 8, 8, 1152)   4608        conv2d_581[0][0]                 \n",
            "__________________________________________________________________________________________________\n",
            "swish_435 (Swish)               (None, 8, 8, 1152)   0           batch_normalization_435[0][0]    \n",
            "__________________________________________________________________________________________________\n",
            "depthwise_conv2d_147 (Depthwise (None, 8, 8, 1152)   28800       swish_435[0][0]                  \n",
            "__________________________________________________________________________________________________\n",
            "batch_normalization_436 (BatchN (None, 8, 8, 1152)   4608        depthwise_conv2d_147[0][0]       \n",
            "__________________________________________________________________________________________________\n",
            "swish_436 (Swish)               (None, 8, 8, 1152)   0           batch_normalization_436[0][0]    \n",
            "__________________________________________________________________________________________________\n",
            "lambda_147 (Lambda)             (None, 1, 1, 1152)   0           swish_436[0][0]                  \n",
            "__________________________________________________________________________________________________\n",
            "conv2d_582 (Conv2D)             (None, 1, 1, 48)     55344       lambda_147[0][0]                 \n",
            "__________________________________________________________________________________________________\n",
            "swish_437 (Swish)               (None, 1, 1, 48)     0           conv2d_582[0][0]                 \n",
            "__________________________________________________________________________________________________\n",
            "conv2d_583 (Conv2D)             (None, 1, 1, 1152)   56448       swish_437[0][0]                  \n",
            "__________________________________________________________________________________________________\n",
            "activation_147 (Activation)     (None, 1, 1, 1152)   0           conv2d_583[0][0]                 \n",
            "__________________________________________________________________________________________________\n",
            "multiply_147 (Multiply)         (None, 8, 8, 1152)   0           activation_147[0][0]             \n",
            "                                                                 swish_436[0][0]                  \n",
            "__________________________________________________________________________________________________\n",
            "conv2d_584 (Conv2D)             (None, 8, 8, 192)    221184      multiply_147[0][0]               \n",
            "__________________________________________________________________________________________________\n",
            "batch_normalization_437 (BatchN (None, 8, 8, 192)    768         conv2d_584[0][0]                 \n",
            "__________________________________________________________________________________________________\n",
            "add_120 (Add)                   (None, 8, 8, 192)    0           batch_normalization_437[0][0]    \n",
            "                                                                 add_119[0][0]                    \n",
            "__________________________________________________________________________________________________\n",
            "conv2d_585 (Conv2D)             (None, 8, 8, 1152)   221184      add_120[0][0]                    \n",
            "__________________________________________________________________________________________________\n",
            "batch_normalization_438 (BatchN (None, 8, 8, 1152)   4608        conv2d_585[0][0]                 \n",
            "__________________________________________________________________________________________________\n",
            "swish_438 (Swish)               (None, 8, 8, 1152)   0           batch_normalization_438[0][0]    \n",
            "__________________________________________________________________________________________________\n",
            "depthwise_conv2d_148 (Depthwise (None, 8, 8, 1152)   28800       swish_438[0][0]                  \n",
            "__________________________________________________________________________________________________\n",
            "batch_normalization_439 (BatchN (None, 8, 8, 1152)   4608        depthwise_conv2d_148[0][0]       \n",
            "__________________________________________________________________________________________________\n",
            "swish_439 (Swish)               (None, 8, 8, 1152)   0           batch_normalization_439[0][0]    \n",
            "__________________________________________________________________________________________________\n",
            "lambda_148 (Lambda)             (None, 1, 1, 1152)   0           swish_439[0][0]                  \n",
            "__________________________________________________________________________________________________\n",
            "conv2d_586 (Conv2D)             (None, 1, 1, 48)     55344       lambda_148[0][0]                 \n",
            "__________________________________________________________________________________________________\n",
            "swish_440 (Swish)               (None, 1, 1, 48)     0           conv2d_586[0][0]                 \n",
            "__________________________________________________________________________________________________\n",
            "conv2d_587 (Conv2D)             (None, 1, 1, 1152)   56448       swish_440[0][0]                  \n",
            "__________________________________________________________________________________________________\n",
            "activation_148 (Activation)     (None, 1, 1, 1152)   0           conv2d_587[0][0]                 \n",
            "__________________________________________________________________________________________________\n",
            "multiply_148 (Multiply)         (None, 8, 8, 1152)   0           activation_148[0][0]             \n",
            "                                                                 swish_439[0][0]                  \n",
            "__________________________________________________________________________________________________\n",
            "conv2d_588 (Conv2D)             (None, 8, 8, 192)    221184      multiply_148[0][0]               \n",
            "__________________________________________________________________________________________________\n",
            "batch_normalization_440 (BatchN (None, 8, 8, 192)    768         conv2d_588[0][0]                 \n",
            "__________________________________________________________________________________________________\n",
            "add_121 (Add)                   (None, 8, 8, 192)    0           batch_normalization_440[0][0]    \n",
            "                                                                 add_120[0][0]                    \n",
            "__________________________________________________________________________________________________\n",
            "conv2d_589 (Conv2D)             (None, 8, 8, 1152)   221184      add_121[0][0]                    \n",
            "__________________________________________________________________________________________________\n",
            "batch_normalization_441 (BatchN (None, 8, 8, 1152)   4608        conv2d_589[0][0]                 \n",
            "__________________________________________________________________________________________________\n",
            "swish_441 (Swish)               (None, 8, 8, 1152)   0           batch_normalization_441[0][0]    \n",
            "__________________________________________________________________________________________________\n",
            "depthwise_conv2d_149 (Depthwise (None, 8, 8, 1152)   10368       swish_441[0][0]                  \n",
            "__________________________________________________________________________________________________\n",
            "batch_normalization_442 (BatchN (None, 8, 8, 1152)   4608        depthwise_conv2d_149[0][0]       \n",
            "__________________________________________________________________________________________________\n",
            "swish_442 (Swish)               (None, 8, 8, 1152)   0           batch_normalization_442[0][0]    \n",
            "__________________________________________________________________________________________________\n",
            "lambda_149 (Lambda)             (None, 1, 1, 1152)   0           swish_442[0][0]                  \n",
            "__________________________________________________________________________________________________\n",
            "conv2d_590 (Conv2D)             (None, 1, 1, 48)     55344       lambda_149[0][0]                 \n",
            "__________________________________________________________________________________________________\n",
            "swish_443 (Swish)               (None, 1, 1, 48)     0           conv2d_590[0][0]                 \n",
            "__________________________________________________________________________________________________\n",
            "conv2d_591 (Conv2D)             (None, 1, 1, 1152)   56448       swish_443[0][0]                  \n",
            "__________________________________________________________________________________________________\n",
            "activation_149 (Activation)     (None, 1, 1, 1152)   0           conv2d_591[0][0]                 \n",
            "__________________________________________________________________________________________________\n",
            "multiply_149 (Multiply)         (None, 8, 8, 1152)   0           activation_149[0][0]             \n",
            "                                                                 swish_442[0][0]                  \n",
            "__________________________________________________________________________________________________\n",
            "conv2d_592 (Conv2D)             (None, 8, 8, 320)    368640      multiply_149[0][0]               \n",
            "__________________________________________________________________________________________________\n",
            "batch_normalization_443 (BatchN (None, 8, 8, 320)    1280        conv2d_592[0][0]                 \n",
            "__________________________________________________________________________________________________\n",
            "conv2d_593 (Conv2D)             (None, 8, 8, 1280)   409600      batch_normalization_443[0][0]    \n",
            "__________________________________________________________________________________________________\n",
            "batch_normalization_444 (BatchN (None, 8, 8, 1280)   5120        conv2d_593[0][0]                 \n",
            "__________________________________________________________________________________________________\n",
            "swish_444 (Swish)               (None, 8, 8, 1280)   0           batch_normalization_444[0][0]    \n",
            "__________________________________________________________________________________________________\n",
            "global_average_pooling2d_4 (Glo (None, 1280)         0           swish_444[0][0]                  \n",
            "__________________________________________________________________________________________________\n",
            "dense_5 (Dense)                 (None, 128)          163968      global_average_pooling2d_4[0][0] \n",
            "__________________________________________________________________________________________________\n",
            "dropout_4 (Dropout)             (None, 128)          0           dense_5[0][0]                    \n",
            "__________________________________________________________________________________________________\n",
            "dense_6 (Dense)                 (None, 102)          13158       dropout_4[0][0]                  \n",
            "==================================================================================================\n",
            "Total params: 4,226,690\n",
            "Trainable params: 4,184,674\n",
            "Non-trainable params: 42,016\n",
            "__________________________________________________________________________________________________\n"
          ],
          "name": "stdout"
        }
      ]
    },
    {
      "cell_type": "markdown",
      "metadata": {
        "id": "0Yj70omSGT5k",
        "colab_type": "text"
      },
      "source": [
        "#### compilation and training"
      ]
    },
    {
      "cell_type": "code",
      "metadata": {
        "id": "pqTP6VG3GYAl",
        "colab_type": "code",
        "colab": {}
      },
      "source": [
        "adam = Adam(lr=0.00003)"
      ],
      "execution_count": 0,
      "outputs": []
    },
    {
      "cell_type": "code",
      "metadata": {
        "id": "FBFB42EDDmsY",
        "colab_type": "code",
        "colab": {}
      },
      "source": [
        "model.compile(loss='categorical_crossentropy', optimizer=adam, metrics=['accuracy'])"
      ],
      "execution_count": 0,
      "outputs": []
    },
    {
      "cell_type": "code",
      "metadata": {
        "id": "iezTPyI9DmpA",
        "colab_type": "code",
        "colab": {
          "base_uri": "https://localhost:8080/",
          "height": 315
        },
        "outputId": "bb05604c-0cdb-43fb-e608-3323e89c42e8"
      },
      "source": [
        "hist = model.fit_generator(train_gen, steps_per_epoch=16638//32, validation_data=val_gen, validation_steps=1902//32, epochs=20, callbacks=[TensorBoardColabCallback(tbc), tb, es])"
      ],
      "execution_count": 61,
      "outputs": [
        {
          "output_type": "stream",
          "text": [
            "Epoch 1/20\n",
            "519/519 [==============================] - 287s 552ms/step - loss: 4.0795 - acc: 0.1672 - val_loss: 2.8862 - val_acc: 0.4299\n",
            "Epoch 2/20\n",
            "519/519 [==============================] - 275s 529ms/step - loss: 2.3418 - acc: 0.5320 - val_loss: 1.2294 - val_acc: 0.7652\n",
            "Epoch 3/20\n",
            "519/519 [==============================] - 275s 530ms/step - loss: 1.2049 - acc: 0.7564 - val_loss: 0.5456 - val_acc: 0.9005\n",
            "Epoch 4/20\n",
            "519/519 [==============================] - 275s 529ms/step - loss: 0.6918 - acc: 0.8575 - val_loss: 0.2688 - val_acc: 0.9561\n",
            "Epoch 5/20\n",
            "519/519 [==============================] - 275s 529ms/step - loss: 0.4356 - acc: 0.9075 - val_loss: 0.1739 - val_acc: 0.9711\n",
            "Epoch 6/20\n",
            "519/519 [==============================] - 276s 531ms/step - loss: 0.2974 - acc: 0.9365 - val_loss: 0.1030 - val_acc: 0.9840\n",
            "Epoch 7/20\n",
            "519/519 [==============================] - 276s 531ms/step - loss: 0.2193 - acc: 0.9512 - val_loss: 0.0695 - val_acc: 0.9914\n",
            "Epoch 8/20\n",
            "519/519 [==============================] - 275s 530ms/step - loss: 0.1595 - acc: 0.9653 - val_loss: 0.0528 - val_acc: 0.9909\n"
          ],
          "name": "stdout"
        }
      ]
    },
    {
      "cell_type": "code",
      "metadata": {
        "id": "hQNV7OmBT3io",
        "colab_type": "code",
        "colab": {}
      },
      "source": [
        ""
      ],
      "execution_count": 0,
      "outputs": []
    },
    {
      "cell_type": "code",
      "metadata": {
        "id": "Hre-vm1uDma8",
        "colab_type": "code",
        "colab": {}
      },
      "source": [
        "def plot_loss_accuracy():\n",
        "  # plot loss\n",
        "  print(\"training_loss =\", hist.history['loss'][-1],  \"   val_loss =\", hist.history['val_loss'][-1])\n",
        "  print(\"training_acc =\", hist.history['acc'][-1]*100, \"   val_acc =\", hist.history['val_acc'][-1]*100)\n",
        "  plt.plot(hist.history['val_loss'], label='val_loss')\n",
        "  plt.plot(hist.history['loss'], label='training_loss')\n",
        "\n",
        "  # plot accuracy\n",
        "  plt.plot(hist.history['val_acc'], label='val_acc')\n",
        "  plt.plot(hist.history['acc'], label='training_acc')\n",
        "  plt.legend()\n",
        "  plt.show()"
      ],
      "execution_count": 0,
      "outputs": []
    },
    {
      "cell_type": "code",
      "metadata": {
        "id": "RIeR7wa_G07u",
        "colab_type": "code",
        "colab": {
          "base_uri": "https://localhost:8080/",
          "height": 304
        },
        "outputId": "68a518f5-12d9-43c1-8b93-6e4fc89fc6f1"
      },
      "source": [
        "plot_loss_accuracy()"
      ],
      "execution_count": 64,
      "outputs": [
        {
          "output_type": "stream",
          "text": [
            "training_loss = 0.15948203196550556    val_loss = 0.05280459782178389\n",
            "training_acc = 96.52535227728252    val_acc = 99.0909090909091\n"
          ],
          "name": "stdout"
        },
        {
          "output_type": "display_data",
          "data": {
            "image/png": "[encoded data removed]",
            "text/plain": [
              "<Figure size 432x288 with 1 Axes>"
            ]
          },
          "metadata": {
            "tags": []
          }
        }
      ]
    },
    {
      "cell_type": "code",
      "metadata": {
        "id": "DJQXaJjjH0GT",
        "colab_type": "code",
        "colab": {}
      },
      "source": [
        "preserved_model = model"
      ],
      "execution_count": 0,
      "outputs": []
    },
    {
      "cell_type": "markdown",
      "metadata": {
        "id": "4WFIUOb2Tdpj",
        "colab_type": "text"
      },
      "source": [
        "## Time to make prediction"
      ]
    },
    {
      "cell_type": "code",
      "metadata": {
        "id": "DkuFCkdfTiXs",
        "colab_type": "code",
        "colab": {}
      },
      "source": [
        "if not os.path.isdir('data/test/test_data'):\n",
        "  os.mkdir('data/test/test_data')"
      ],
      "execution_count": 0,
      "outputs": []
    },
    {
      "cell_type": "code",
      "metadata": {
        "id": "b8KakkrtUO0_",
        "colab_type": "code",
        "colab": {}
      },
      "source": [
        "# make subdirectory of each class\n",
        "for each in os.listdir('data/test/'):\n",
        "  dest = 'data/test/test_data'\n",
        "  src = os.path.join('data/test', each)\n",
        "  shutil.move(src, dest)\n",
        "\n"
      ],
      "execution_count": 0,
      "outputs": []
    },
    {
      "cell_type": "code",
      "metadata": {
        "id": "5UUEaYNGU1ED",
        "colab_type": "code",
        "colab": {}
      },
      "source": [
        "test_datagen = ImageDataGenerator(rescale=1./255)"
      ],
      "execution_count": 0,
      "outputs": []
    },
    {
      "cell_type": "code",
      "metadata": {
        "id": "Cty3Td9dUUCL",
        "colab_type": "code",
        "colab": {
          "base_uri": "https://localhost:8080/",
          "height": 34
        },
        "outputId": "2165a986-f6aa-4e22-c0e2-8a13bff0d705"
      },
      "source": [
        "test_generator = test_datagen.flow_from_directory(\n",
        "        'data/test',\n",
        "        shuffle = False,\n",
        "        class_mode='categorical',\n",
        "        batch_size=1\n",
        ")"
      ],
      "execution_count": 70,
      "outputs": [
        {
          "output_type": "stream",
          "text": [
            "Found 2009 images belonging to 1 classes.\n"
          ],
          "name": "stdout"
        }
      ]
    },
    {
      "cell_type": "code",
      "metadata": {
        "id": "O5djVgdZYHfy",
        "colab_type": "code",
        "colab": {
          "base_uri": "https://localhost:8080/",
          "height": 34
        },
        "outputId": "3fde42ea-1b2e-400d-aa29-519fc3af8a25"
      },
      "source": [
        "test_generator.class_indices"
      ],
      "execution_count": 95,
      "outputs": [
        {
          "output_type": "execute_result",
          "data": {
            "text/plain": [
              "{'test_data': 0}"
            ]
          },
          "metadata": {
            "tags": []
          },
          "execution_count": 95
        }
      ]
    },
    {
      "cell_type": "code",
      "metadata": {
        "id": "D3fR02baVA_8",
        "colab_type": "code",
        "colab": {}
      },
      "source": [
        "filenames = test_generator.filenames"
      ],
      "execution_count": 0,
      "outputs": []
    },
    {
      "cell_type": "code",
      "metadata": {
        "id": "5cf5YKl9VFL1",
        "colab_type": "code",
        "colab": {}
      },
      "source": [
        "nb_samples = len(filenames)"
      ],
      "execution_count": 0,
      "outputs": []
    },
    {
      "cell_type": "code",
      "metadata": {
        "id": "cnLyXwQLVG0a",
        "colab_type": "code",
        "colab": {}
      },
      "source": [
        "predict = model.predict_generator(test_generator,steps = nb_samples)"
      ],
      "execution_count": 0,
      "outputs": []
    },
    {
      "cell_type": "code",
      "metadata": {
        "id": "vtczZUrgVOWz",
        "colab_type": "code",
        "colab": {}
      },
      "source": [
        "actual_pred = np.argmax(predict, axis=1)"
      ],
      "execution_count": 0,
      "outputs": []
    },
    {
      "cell_type": "code",
      "metadata": {
        "id": "sqqud33rVZOQ",
        "colab_type": "code",
        "colab": {
          "base_uri": "https://localhost:8080/",
          "height": 34
        },
        "outputId": "54e79e36-0a59-45e6-8435-395faeeb5467"
      },
      "source": [
        "actual_pred.shape"
      ],
      "execution_count": 78,
      "outputs": [
        {
          "output_type": "execute_result",
          "data": {
            "text/plain": [
              "(2009,)"
            ]
          },
          "metadata": {
            "tags": []
          },
          "execution_count": 78
        }
      ]
    },
    {
      "cell_type": "code",
      "metadata": {
        "id": "A0ky8AF3VnPR",
        "colab_type": "code",
        "colab": {}
      },
      "source": [
        "actual_pred = actual_pred + 1 #"
      ],
      "execution_count": 0,
      "outputs": []
    },
    {
      "cell_type": "code",
      "metadata": {
        "id": "tF9zb4cWVpH3",
        "colab_type": "code",
        "colab": {
          "base_uri": "https://localhost:8080/",
          "height": 156
        },
        "outputId": "7fec8fb6-c366-43c0-e36e-7e7eb2e2c1f4"
      },
      "source": [
        "np.unique(actual_pred)"
      ],
      "execution_count": 82,
      "outputs": [
        {
          "output_type": "execute_result",
          "data": {
            "text/plain": [
              "array([  1,   2,   3,   4,   5,   6,   7,   8,   9,  10,  11,  12,  13,\n",
              "        14,  15,  16,  17,  18,  19,  20,  21,  22,  23,  24,  25,  26,\n",
              "        27,  28,  29,  30,  31,  32,  33,  34,  35,  36,  37,  38,  39,\n",
              "        40,  41,  42,  43,  44,  45,  46,  47,  48,  49,  50,  51,  52,\n",
              "        53,  54,  55,  56,  57,  58,  59,  60,  61,  62,  63,  64,  65,\n",
              "        66,  67,  68,  69,  70,  71,  72,  73,  74,  75,  76,  77,  78,\n",
              "        79,  80,  81,  82,  83,  84,  85,  86,  87,  88,  89,  90,  91,\n",
              "        92,  93,  94,  95,  96,  97,  98,  99, 100, 101, 102])"
            ]
          },
          "metadata": {
            "tags": []
          },
          "execution_count": 82
        }
      ]
    },
    {
      "cell_type": "code",
      "metadata": {
        "id": "agEt-yfXV37c",
        "colab_type": "code",
        "colab": {
          "base_uri": "https://localhost:8080/",
          "height": 86
        },
        "outputId": "c0d25c0f-fe91-45b8-80ea-3447c85071c8"
      },
      "source": [
        "filenames[:4]"
      ],
      "execution_count": 83,
      "outputs": [
        {
          "output_type": "execute_result",
          "data": {
            "text/plain": [
              "['test_data/18540.jpg',\n",
              " 'test_data/18541.jpg',\n",
              " 'test_data/18542.jpg',\n",
              " 'test_data/18543.jpg']"
            ]
          },
          "metadata": {
            "tags": []
          },
          "execution_count": 83
        }
      ]
    },
    {
      "cell_type": "code",
      "metadata": {
        "id": "DEEe4T85V_rj",
        "colab_type": "code",
        "colab": {
          "base_uri": "https://localhost:8080/",
          "height": 175
        },
        "outputId": "ab495314-86c3-4e3c-e0c2-d6c117e39b09"
      },
      "source": [
        "sample.head(4)"
      ],
      "execution_count": 84,
      "outputs": [
        {
          "output_type": "execute_result",
          "data": {
            "text/html": [
              "<div>\n",
              "<style scoped>\n",
              "    .dataframe tbody tr th:only-of-type {\n",
              "        vertical-align: middle;\n",
              "    }\n",
              "\n",
              "    .dataframe tbody tr th {\n",
              "        vertical-align: top;\n",
              "    }\n",
              "\n",
              "    .dataframe thead th {\n",
              "        text-align: right;\n",
              "    }\n",
              "</style>\n",
              "<table border=\"1\" class=\"dataframe\">\n",
              "  <thead>\n",
              "    <tr style=\"text-align: right;\">\n",
              "      <th></th>\n",
              "      <th>image_id</th>\n",
              "      <th>category</th>\n",
              "    </tr>\n",
              "  </thead>\n",
              "  <tbody>\n",
              "    <tr>\n",
              "      <th>0</th>\n",
              "      <td>18540</td>\n",
              "      <td>0</td>\n",
              "    </tr>\n",
              "    <tr>\n",
              "      <th>1</th>\n",
              "      <td>18541</td>\n",
              "      <td>0</td>\n",
              "    </tr>\n",
              "    <tr>\n",
              "      <th>2</th>\n",
              "      <td>18542</td>\n",
              "      <td>0</td>\n",
              "    </tr>\n",
              "    <tr>\n",
              "      <th>3</th>\n",
              "      <td>18543</td>\n",
              "      <td>0</td>\n",
              "    </tr>\n",
              "  </tbody>\n",
              "</table>\n",
              "</div>"
            ],
            "text/plain": [
              "   image_id  category\n",
              "0     18540         0\n",
              "1     18541         0\n",
              "2     18542         0\n",
              "3     18543         0"
            ]
          },
          "metadata": {
            "tags": []
          },
          "execution_count": 84
        }
      ]
    },
    {
      "cell_type": "code",
      "metadata": {
        "id": "LVr62TM5WBn7",
        "colab_type": "code",
        "colab": {}
      },
      "source": [
        "sample.category = actual_pred"
      ],
      "execution_count": 0,
      "outputs": []
    },
    {
      "cell_type": "code",
      "metadata": {
        "id": "qDoicp6JWPnk",
        "colab_type": "code",
        "colab": {
          "base_uri": "https://localhost:8080/",
          "height": 363
        },
        "outputId": "bc0bb56e-e883-4840-c30f-0b730be4ca59"
      },
      "source": [
        "sample.tail(10)"
      ],
      "execution_count": 92,
      "outputs": [
        {
          "output_type": "execute_result",
          "data": {
            "text/html": [
              "<div>\n",
              "<style scoped>\n",
              "    .dataframe tbody tr th:only-of-type {\n",
              "        vertical-align: middle;\n",
              "    }\n",
              "\n",
              "    .dataframe tbody tr th {\n",
              "        vertical-align: top;\n",
              "    }\n",
              "\n",
              "    .dataframe thead th {\n",
              "        text-align: right;\n",
              "    }\n",
              "</style>\n",
              "<table border=\"1\" class=\"dataframe\">\n",
              "  <thead>\n",
              "    <tr style=\"text-align: right;\">\n",
              "      <th></th>\n",
              "      <th>image_id</th>\n",
              "      <th>category</th>\n",
              "    </tr>\n",
              "  </thead>\n",
              "  <tbody>\n",
              "    <tr>\n",
              "      <th>1999</th>\n",
              "      <td>20539</td>\n",
              "      <td>78</td>\n",
              "    </tr>\n",
              "    <tr>\n",
              "      <th>2000</th>\n",
              "      <td>20540</td>\n",
              "      <td>36</td>\n",
              "    </tr>\n",
              "    <tr>\n",
              "      <th>2001</th>\n",
              "      <td>20541</td>\n",
              "      <td>78</td>\n",
              "    </tr>\n",
              "    <tr>\n",
              "      <th>2002</th>\n",
              "      <td>20542</td>\n",
              "      <td>83</td>\n",
              "    </tr>\n",
              "    <tr>\n",
              "      <th>2003</th>\n",
              "      <td>20543</td>\n",
              "      <td>78</td>\n",
              "    </tr>\n",
              "    <tr>\n",
              "      <th>2004</th>\n",
              "      <td>20544</td>\n",
              "      <td>57</td>\n",
              "    </tr>\n",
              "    <tr>\n",
              "      <th>2005</th>\n",
              "      <td>20545</td>\n",
              "      <td>50</td>\n",
              "    </tr>\n",
              "    <tr>\n",
              "      <th>2006</th>\n",
              "      <td>20546</td>\n",
              "      <td>97</td>\n",
              "    </tr>\n",
              "    <tr>\n",
              "      <th>2007</th>\n",
              "      <td>20547</td>\n",
              "      <td>73</td>\n",
              "    </tr>\n",
              "    <tr>\n",
              "      <th>2008</th>\n",
              "      <td>20548</td>\n",
              "      <td>50</td>\n",
              "    </tr>\n",
              "  </tbody>\n",
              "</table>\n",
              "</div>"
            ],
            "text/plain": [
              "      image_id  category\n",
              "1999     20539        78\n",
              "2000     20540        36\n",
              "2001     20541        78\n",
              "2002     20542        83\n",
              "2003     20543        78\n",
              "2004     20544        57\n",
              "2005     20545        50\n",
              "2006     20546        97\n",
              "2007     20547        73\n",
              "2008     20548        50"
            ]
          },
          "metadata": {
            "tags": []
          },
          "execution_count": 92
        }
      ]
    },
    {
      "cell_type": "code",
      "metadata": {
        "id": "NNHXg3hQWRlL",
        "colab_type": "code",
        "colab": {
          "base_uri": "https://localhost:8080/",
          "height": 34
        },
        "outputId": "cb2b203b-9222-447d-a62e-853991055d23"
      },
      "source": [
        "type(sample)"
      ],
      "execution_count": 93,
      "outputs": [
        {
          "output_type": "execute_result",
          "data": {
            "text/plain": [
              "pandas.core.frame.DataFrame"
            ]
          },
          "metadata": {
            "tags": []
          },
          "execution_count": 93
        }
      ]
    },
    {
      "cell_type": "code",
      "metadata": {
        "id": "betz2Lf5WrJF",
        "colab_type": "code",
        "colab": {}
      },
      "source": [
        "sample.to_csv('submission.csv', index=False)"
      ],
      "execution_count": 0,
      "outputs": []
    },
    {
      "cell_type": "code",
      "metadata": {
        "id": "tTlKR2BuW-s2",
        "colab_type": "code",
        "colab": {}
      },
      "source": [
        ""
      ],
      "execution_count": 0,
      "outputs": []
    }
  ]
}